{
 "cells": [
  {
   "cell_type": "code",
   "execution_count": 2,
   "metadata": {},
   "outputs": [],
   "source": [
    "import numpy as np\n",
    "import pandas as pd\n",
    "import yfinance as yf\n",
    "import matplotlib.pyplot as plt"
   ]
  },
  {
   "cell_type": "code",
   "execution_count": 3,
   "metadata": {},
   "outputs": [],
   "source": [
    "# taxa de juros de mercado\n",
    "RISK_FREE_RATE = 0.05\n",
    "# consideraremos os retornos mensais - e queremos calcular o retorno anual\n",
    "MONTHS_IN_YEAR = 12"
   ]
  },
  {
   "cell_type": "markdown",
   "metadata": {},
   "source": [
    "## Download dos dados"
   ]
  },
  {
   "cell_type": "code",
   "execution_count": 5,
   "metadata": {},
   "outputs": [
    {
     "name": "stdout",
     "output_type": "stream",
     "text": [
      "[*********************100%***********************]  1 of 1 completed\n",
      "[*********************100%***********************]  1 of 1 completed\n"
     ]
    }
   ],
   "source": [
    "start_date = '2010-01-01'\n",
    "end_date = '2017-01-01'\n",
    "data = {}\n",
    "stocks = ['IBM', '^GSPC']\n",
    "\n",
    "for stock in stocks:\n",
    "    ticker = yf.download(stock, start_date, end_date)\n",
    "    # utilizar o Adj Close é melhor nesse caso, pois leva em consideração o preço após ajustes para todas as divisões e distribuições de dividendos aplicáveis.\n",
    "    data[stock] = ticker['Adj Close']\n",
    "stock_data = pd.DataFrame(data)"
   ]
  },
  {
   "cell_type": "code",
   "execution_count": 6,
   "metadata": {},
   "outputs": [
    {
     "data": {
      "text/html": [
       "<div>\n",
       "<style scoped>\n",
       "    .dataframe tbody tr th:only-of-type {\n",
       "        vertical-align: middle;\n",
       "    }\n",
       "\n",
       "    .dataframe tbody tr th {\n",
       "        vertical-align: top;\n",
       "    }\n",
       "\n",
       "    .dataframe thead th {\n",
       "        text-align: right;\n",
       "    }\n",
       "</style>\n",
       "<table border=\"1\" class=\"dataframe\">\n",
       "  <thead>\n",
       "    <tr style=\"text-align: right;\">\n",
       "      <th></th>\n",
       "      <th>IBM</th>\n",
       "      <th>^GSPC</th>\n",
       "    </tr>\n",
       "    <tr>\n",
       "      <th>Date</th>\n",
       "      <th></th>\n",
       "      <th></th>\n",
       "    </tr>\n",
       "  </thead>\n",
       "  <tbody>\n",
       "    <tr>\n",
       "      <th>2010-01-04</th>\n",
       "      <td>85.347488</td>\n",
       "      <td>1132.989990</td>\n",
       "    </tr>\n",
       "    <tr>\n",
       "      <th>2010-01-05</th>\n",
       "      <td>84.316475</td>\n",
       "      <td>1136.520020</td>\n",
       "    </tr>\n",
       "    <tr>\n",
       "      <th>2010-01-06</th>\n",
       "      <td>83.768784</td>\n",
       "      <td>1137.140015</td>\n",
       "    </tr>\n",
       "    <tr>\n",
       "      <th>2010-01-07</th>\n",
       "      <td>83.478806</td>\n",
       "      <td>1141.689941</td>\n",
       "    </tr>\n",
       "    <tr>\n",
       "      <th>2010-01-08</th>\n",
       "      <td>84.316475</td>\n",
       "      <td>1144.979980</td>\n",
       "    </tr>\n",
       "    <tr>\n",
       "      <th>...</th>\n",
       "      <td>...</td>\n",
       "      <td>...</td>\n",
       "    </tr>\n",
       "    <tr>\n",
       "      <th>2016-12-23</th>\n",
       "      <td>126.714783</td>\n",
       "      <td>2263.790039</td>\n",
       "    </tr>\n",
       "    <tr>\n",
       "      <th>2016-12-27</th>\n",
       "      <td>127.041634</td>\n",
       "      <td>2268.879883</td>\n",
       "    </tr>\n",
       "    <tr>\n",
       "      <th>2016-12-28</th>\n",
       "      <td>126.319550</td>\n",
       "      <td>2249.919922</td>\n",
       "    </tr>\n",
       "    <tr>\n",
       "      <th>2016-12-29</th>\n",
       "      <td>126.631195</td>\n",
       "      <td>2249.260010</td>\n",
       "    </tr>\n",
       "    <tr>\n",
       "      <th>2016-12-30</th>\n",
       "      <td>126.167511</td>\n",
       "      <td>2238.830078</td>\n",
       "    </tr>\n",
       "  </tbody>\n",
       "</table>\n",
       "<p>1762 rows × 2 columns</p>\n",
       "</div>"
      ],
      "text/plain": [
       "                   IBM        ^GSPC\n",
       "Date                               \n",
       "2010-01-04   85.347488  1132.989990\n",
       "2010-01-05   84.316475  1136.520020\n",
       "2010-01-06   83.768784  1137.140015\n",
       "2010-01-07   83.478806  1141.689941\n",
       "2010-01-08   84.316475  1144.979980\n",
       "...                ...          ...\n",
       "2016-12-23  126.714783  2263.790039\n",
       "2016-12-27  127.041634  2268.879883\n",
       "2016-12-28  126.319550  2249.919922\n",
       "2016-12-29  126.631195  2249.260010\n",
       "2016-12-30  126.167511  2238.830078\n",
       "\n",
       "[1762 rows x 2 columns]"
      ]
     },
     "execution_count": 6,
     "metadata": {},
     "output_type": "execute_result"
    }
   ],
   "source": [
    "stock_data"
   ]
  },
  {
   "cell_type": "markdown",
   "metadata": {},
   "source": [
    "## Processamento dos dados"
   ]
  },
  {
   "cell_type": "code",
   "execution_count": 9,
   "metadata": {},
   "outputs": [
    {
     "data": {
      "text/html": [
       "<div>\n",
       "<style scoped>\n",
       "    .dataframe tbody tr th:only-of-type {\n",
       "        vertical-align: middle;\n",
       "    }\n",
       "\n",
       "    .dataframe tbody tr th {\n",
       "        vertical-align: top;\n",
       "    }\n",
       "\n",
       "    .dataframe thead th {\n",
       "        text-align: right;\n",
       "    }\n",
       "</style>\n",
       "<table border=\"1\" class=\"dataframe\">\n",
       "  <thead>\n",
       "    <tr style=\"text-align: right;\">\n",
       "      <th></th>\n",
       "      <th>s_adjclose</th>\n",
       "      <th>m_adjclose</th>\n",
       "      <th>s_returns</th>\n",
       "      <th>m_returns</th>\n",
       "    </tr>\n",
       "    <tr>\n",
       "      <th>Date</th>\n",
       "      <th></th>\n",
       "      <th></th>\n",
       "      <th></th>\n",
       "      <th></th>\n",
       "    </tr>\n",
       "  </thead>\n",
       "  <tbody>\n",
       "    <tr>\n",
       "      <th>2010-02-28</th>\n",
       "      <td>82.305222</td>\n",
       "      <td>1104.489990</td>\n",
       "      <td>0.042696</td>\n",
       "      <td>0.028115</td>\n",
       "    </tr>\n",
       "    <tr>\n",
       "      <th>2010-03-31</th>\n",
       "      <td>83.010727</td>\n",
       "      <td>1169.430054</td>\n",
       "      <td>0.008535</td>\n",
       "      <td>0.057133</td>\n",
       "    </tr>\n",
       "    <tr>\n",
       "      <th>2010-04-30</th>\n",
       "      <td>83.496201</td>\n",
       "      <td>1186.689941</td>\n",
       "      <td>0.005831</td>\n",
       "      <td>0.014651</td>\n",
       "    </tr>\n",
       "    <tr>\n",
       "      <th>2010-05-31</th>\n",
       "      <td>81.491028</td>\n",
       "      <td>1089.410034</td>\n",
       "      <td>-0.024308</td>\n",
       "      <td>-0.085532</td>\n",
       "    </tr>\n",
       "    <tr>\n",
       "      <th>2010-06-30</th>\n",
       "      <td>80.333023</td>\n",
       "      <td>1030.709961</td>\n",
       "      <td>-0.014312</td>\n",
       "      <td>-0.055388</td>\n",
       "    </tr>\n",
       "    <tr>\n",
       "      <th>...</th>\n",
       "      <td>...</td>\n",
       "      <td>...</td>\n",
       "      <td>...</td>\n",
       "      <td>...</td>\n",
       "    </tr>\n",
       "    <tr>\n",
       "      <th>2016-08-31</th>\n",
       "      <td>119.677544</td>\n",
       "      <td>2170.949951</td>\n",
       "      <td>-0.002293</td>\n",
       "      <td>-0.001220</td>\n",
       "    </tr>\n",
       "    <tr>\n",
       "      <th>2016-09-30</th>\n",
       "      <td>119.654922</td>\n",
       "      <td>2168.270020</td>\n",
       "      <td>-0.000189</td>\n",
       "      <td>-0.001235</td>\n",
       "    </tr>\n",
       "    <tr>\n",
       "      <th>2016-10-31</th>\n",
       "      <td>115.768173</td>\n",
       "      <td>2126.149902</td>\n",
       "      <td>-0.033022</td>\n",
       "      <td>-0.019617</td>\n",
       "    </tr>\n",
       "    <tr>\n",
       "      <th>2016-11-30</th>\n",
       "      <td>123.301979</td>\n",
       "      <td>2198.810059</td>\n",
       "      <td>0.063047</td>\n",
       "      <td>0.033604</td>\n",
       "    </tr>\n",
       "    <tr>\n",
       "      <th>2016-12-31</th>\n",
       "      <td>126.167511</td>\n",
       "      <td>2238.830078</td>\n",
       "      <td>0.022974</td>\n",
       "      <td>0.018037</td>\n",
       "    </tr>\n",
       "  </tbody>\n",
       "</table>\n",
       "<p>83 rows × 4 columns</p>\n",
       "</div>"
      ],
      "text/plain": [
       "            s_adjclose   m_adjclose  s_returns  m_returns\n",
       "Date                                                     \n",
       "2010-02-28   82.305222  1104.489990   0.042696   0.028115\n",
       "2010-03-31   83.010727  1169.430054   0.008535   0.057133\n",
       "2010-04-30   83.496201  1186.689941   0.005831   0.014651\n",
       "2010-05-31   81.491028  1089.410034  -0.024308  -0.085532\n",
       "2010-06-30   80.333023  1030.709961  -0.014312  -0.055388\n",
       "...                ...          ...        ...        ...\n",
       "2016-08-31  119.677544  2170.949951  -0.002293  -0.001220\n",
       "2016-09-30  119.654922  2168.270020  -0.000189  -0.001235\n",
       "2016-10-31  115.768173  2126.149902  -0.033022  -0.019617\n",
       "2016-11-30  123.301979  2198.810059   0.063047   0.033604\n",
       "2016-12-31  126.167511  2238.830078   0.022974   0.018037\n",
       "\n",
       "[83 rows x 4 columns]"
      ]
     },
     "execution_count": 9,
     "metadata": {},
     "output_type": "execute_result"
    }
   ],
   "source": [
    "# usamos retornos mensais em vez de retornos diários\n",
    "# retornos diários são superiores para previsões de curto prazo\n",
    "# para modelos de longo prazo, os retornos mensais são favoráveis. os retornos de dados mensais são pelo menos aproximadamente distribuídos normalmente\n",
    "# stock e market returns (IBM e SAP 500)\n",
    "\n",
    "stock_data = stock_data.resample('M').last()\n",
    "        \n",
    "        \n",
    "data = pd.DataFrame({'s_adjclose': stock_data[stocks[0]],\n",
    "                         'm_adjclose': stock_data[stocks[1]]})\n",
    "\n",
    "# logarithmic monthly returns\n",
    "data[['s_returns', 'm_returns']] = np.log(data[['s_adjclose', 'm_adjclose']] / data[['s_adjclose', 'm_adjclose']].shift(1))\n",
    "\n",
    "# remove the NaN values\n",
    "data = data[1:]\n",
    "data"
   ]
  },
  {
   "cell_type": "markdown",
   "metadata": {},
   "source": [
    "## Cálculo do beta através da covariância"
   ]
  },
  {
   "cell_type": "code",
   "execution_count": 10,
   "metadata": {},
   "outputs": [
    {
     "name": "stdout",
     "output_type": "stream",
     "text": [
      "Beta from the formula 0.7135091486609736\n"
     ]
    }
   ],
   "source": [
    "# matriz de covariância: os itens diagonais são as variâncias\n",
    "# fora da diagonal são as covariâncias\n",
    "# a matrix é simétrica: cov[0 1] = cov[1,0]\n",
    "\n",
    "covariance_matrix = np.cov(data['s_returns'], data['m_returns'])\n",
    "# beta = cov(ra,rm)/var(rm)\n",
    "beta = covariance_matrix[0,1] / covariance_matrix[1,1]\n",
    "print('Beta from the formula', beta)"
   ]
  },
  {
   "cell_type": "markdown",
   "metadata": {},
   "source": [
    "## Cálculo do beta através da regressão"
   ]
  },
  {
   "cell_type": "code",
   "execution_count": 13,
   "metadata": {},
   "outputs": [
    {
     "name": "stdout",
     "output_type": "stream",
     "text": [
      "Beta from the regression 0.7135091486609735\n",
      "Expected return:  0.09011308905298648\n"
     ]
    }
   ],
   "source": [
    "# usando regressão linear para ajustar uma linha aos dados\n",
    "# [stock_returns, market_returns] - inclinação é o beta\n",
    "beta, alpha = np.polyfit(data['m_returns'], data['s_returns'], deg=1) # deg 1 é uma linha\n",
    "print('Beta from the regression', beta)\n",
    "\n",
    "# calcula o retorno esperado de acordo com a fórmula CAPM\n",
    "# estamos atrás do retorno anual (por isso multiplique por 12)\n",
    "expected_return = RISK_FREE_RATE + beta * (data['m_returns'].mean() * MONTHS_IN_YEAR - RISK_FREE_RATE)\n",
    "print('Expected return: ', expected_return)"
   ]
  },
  {
   "cell_type": "code",
   "execution_count": 14,
   "metadata": {},
   "outputs": [
    {
     "data": {
      "image/png": "[encoded data removed]",
      "text/plain": [
       "<Figure size 1440x720 with 1 Axes>"
      ]
     },
     "metadata": {
      "needs_background": "light"
     },
     "output_type": "display_data"
    }
   ],
   "source": [
    "fig, axis = plt.subplots(1, figsize=(20, 10))\n",
    "axis.scatter(data[\"m_returns\"], data['s_returns'],\n",
    "             label=\"Data Points\")\n",
    "axis.plot(data[\"m_returns\"], beta * data[\"m_returns\"] + alpha,\n",
    "          color='red', label=\"CAPM Line\")\n",
    "plt.title('Capital Asset Pricing Model, finding alpha and beta')\n",
    "plt.xlabel('Market return $R_m$', fontsize=18)\n",
    "plt.ylabel('Stock return $R_a$')\n",
    "plt.text(0.08, 0.05, r'$R_a = \\beta * R_m + \\alpha$', fontsize=18)\n",
    "plt.legend()\n",
    "plt.grid(True)\n",
    "plt.show()"
   ]
  },
  {
   "cell_type": "code",
   "execution_count": null,
   "metadata": {},
   "outputs": [],
   "source": [
    "# quão arriscada sua carteira em relação ao mercado\n",
    "# beta < 1: o risco do mercado de ações é menor do que o de uma ação média\n",
    "# menos arriscado que o mercado - retorna menos dinheiro\n",
    "# beta deve ser > 1\n",
    "# como não é arriscado, o retorno será menor\n",
    "\n",
    "# se investir dinheiro na IBM, o retorno anual é de 9%\n",
    "# beta < 1 - não é um investimento arriscado, mas podemos obter 9% de lucro"
   ]
  }
 ],
 "metadata": {
  "kernelspec": {
   "display_name": "Python 3",
   "language": "python",
   "name": "python3"
  },
  "language_info": {
   "codemirror_mode": {
    "name": "ipython",
    "version": 3
   },
   "file_extension": ".py",
   "mimetype": "text/x-python",
   "name": "python",
   "nbconvert_exporter": "python",
   "pygments_lexer": "ipython3",
   "version": "3.8.10"
  }
 },
 "nbformat": 4,
 "nbformat_minor": 4
}
