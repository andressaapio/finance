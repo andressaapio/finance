{
 "cells": [
  {
   "cell_type": "code",
   "execution_count": 2,
   "id": "05e58224",
   "metadata": {},
   "outputs": [],
   "source": [
    "import numpy as np\n",
    "import yfinance as yf\n",
    "import pandas as pd\n",
    "import datetime"
   ]
  },
  {
   "cell_type": "code",
   "execution_count": 3,
   "id": "b2b63c58",
   "metadata": {},
   "outputs": [],
   "source": [
    "start_date = datetime.datetime(2014, 1, 1)\n",
    "end_date = datetime.datetime(2018, 1, 1)\n",
    "stock = 'TSLA'"
   ]
  },
  {
   "cell_type": "markdown",
   "id": "b84ff26b",
   "metadata": {},
   "source": [
    "## Download dos dados"
   ]
  },
  {
   "cell_type": "code",
   "execution_count": 4,
   "id": "92b22588",
   "metadata": {},
   "outputs": [
    {
     "name": "stdout",
     "output_type": "stream",
     "text": [
      "[*********************100%***********************]  1 of 1 completed\n"
     ]
    }
   ],
   "source": [
    "data = {}\n",
    "ticker = yf.download(stock, start_date, end_date)\n",
    "data[stock] = ticker['Adj Close']\n",
    "stock_data = pd.DataFrame(data)"
   ]
  },
  {
   "cell_type": "markdown",
   "id": "6debb5b8",
   "metadata": {},
   "source": [
    "## Cálculo dos retornos"
   ]
  },
  {
   "cell_type": "code",
   "execution_count": 6,
   "id": "8a450e56",
   "metadata": {},
   "outputs": [],
   "source": [
    "# podemos usar pct_change() para calcular retornos diários \n",
    "stock_data['returns'] = stock_data.pct_change()"
   ]
  },
  {
   "cell_type": "markdown",
   "id": "269e7327",
   "metadata": {},
   "source": [
    "## Cálculo do valor em risco"
   ]
  },
  {
   "cell_type": "code",
   "execution_count": 19,
   "id": "430bcec8",
   "metadata": {},
   "outputs": [],
   "source": [
    "# podemos supor que os retornos diários sejam normalmente distribuídos:\n",
    "mu = np.mean(stock_data['returns'])\n",
    "sigma = np.std(stock_data['returns'])\n",
    "\n",
    "S = 1e4 # valor do investimento\n",
    "c = 0.95 # intervalo de confiança\n",
    "n = 1 # no dia seguinte\n",
    "iterations = 10000 # número de simulações de Monte Carlo\n",
    "\n",
    "# criando as simulações:\n",
    "rand = np.random.normal(0, 1, [1, iterations])\n",
    "\n",
    "# equação para o preço das ações S(t)\n",
    "# o random walk do nosso investimento inicial\n",
    "stock_price = S * np.exp(n * (mu - 0.5 * sigma **2) + sigma * np.sqrt(n) * rand)\n",
    "\n",
    "# temos que ordenar os preços das ações para determinar o percentagem\n",
    "stock_price = np.sort(stock_price)\n",
    "\n",
    "# depende do nível de confiança: 95% -> 5% and 99% -> 1\n",
    "percentile = np.percentile(stock_price, (1 - c) * 100) # Calcular o percentil q dos dados ao longo do eixo especificado\n",
    "\n",
    "# a perda máxima possível tem algo a ver com a simulação que tem o menor valor\n",
    "var = S - percentile"
   ]
  },
  {
   "cell_type": "code",
   "execution_count": 21,
   "id": "90ef08ff",
   "metadata": {},
   "outputs": [
    {
     "name": "stdout",
     "output_type": "stream",
     "text": [
      "Valor em risco com a simulação de Monte-Carlo: $400.60\n"
     ]
    }
   ],
   "source": [
    "print('Valor em risco com a simulação de Monte-Carlo: $%0.2f' % var)"
   ]
  },
  {
   "cell_type": "code",
   "execution_count": null,
   "id": "0597c756",
   "metadata": {},
   "outputs": [],
   "source": []
  }
 ],
 "metadata": {
  "kernelspec": {
   "display_name": "Python 3 (ipykernel)",
   "language": "python",
   "name": "python3"
  },
  "language_info": {
   "codemirror_mode": {
    "name": "ipython",
    "version": 3
   },
   "file_extension": ".py",
   "mimetype": "text/x-python",
   "name": "python",
   "nbconvert_exporter": "python",
   "pygments_lexer": "ipython3",
   "version": "3.9.9"
  }
 },
 "nbformat": 4,
 "nbformat_minor": 5
}
