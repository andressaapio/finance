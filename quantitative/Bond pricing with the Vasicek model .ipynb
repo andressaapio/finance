{
 "cells": [
  {
   "cell_type": "code",
   "execution_count": 3,
   "id": "f9d56ec9",
   "metadata": {},
   "outputs": [],
   "source": [
    "import matplotlib.pyplot as plt\n",
    "import numpy as np\n",
    "import pandas as pd"
   ]
  },
  {
   "cell_type": "code",
   "execution_count": 4,
   "id": "a8f5a452",
   "metadata": {},
   "outputs": [],
   "source": [
    "# we will simulate 1000 r(t) interest rate process\n",
    "NUM_OF_SIMULATIONS = 1000\n",
    "# these are the number of point in a single r(t) process\n",
    "NUM_OF_POINTS = 2000"
   ]
  },
  {
   "cell_type": "code",
   "execution_count": 15,
   "id": "477a9690",
   "metadata": {},
   "outputs": [],
   "source": [
    "x = 1000 # principal ammount of money\n",
    "r0 = 0.1 # initial rate\n",
    "kappa = 0.3 # long term interest rate\n",
    "theta = 0.9 # speed of mean reversion\n",
    "sigma = 0.03 # std\n",
    "T = 1. # year"
   ]
  },
  {
   "cell_type": "markdown",
   "id": "94b61626",
   "metadata": {},
   "source": [
    "## Simulação de Monte Carlo e do modelo de Vasicek "
   ]
  },
  {
   "cell_type": "code",
   "execution_count": 16,
   "id": "df796034",
   "metadata": {},
   "outputs": [],
   "source": [
    "dt = T / float(NUM_OF_POINTS)\n",
    "result = []\n",
    "\n",
    "for _ in range(NUM_OF_SIMULATIONS): # there is no need to track the index of the simulation\n",
    "    rates = [r0]\n",
    "    for _ in range(NUM_OF_POINTS):\n",
    "        dr = kappa * (theta - rates[-1]) * dt + sigma * np.sqrt(dt) * np.random.normal()\n",
    "        rates.append(rates[-1] + dr)\n",
    "\n",
    "    result.append(rates)"
   ]
  },
  {
   "cell_type": "markdown",
   "id": "7613acee",
   "metadata": {},
   "source": [
    "## Cálculo da integral para o cálculo do bond price"
   ]
  },
  {
   "cell_type": "code",
   "execution_count": 17,
   "id": "0e271d40",
   "metadata": {},
   "outputs": [],
   "source": [
    "simulation_data = pd.DataFrame(result)\n",
    "simulation_data = simulation_data.T\n",
    "\n",
    "# calculate the integral of the r(t) based on the simulated paths\n",
    "integral_sum = simulation_data.sum() * dt\n",
    "\n",
    "# present value of a future cash flow\n",
    "present_integral_sum = np.exp(-integral_sum)\n",
    "\n",
    "# mean because the integral is the average\n",
    "bond_price = x * np.mean(present_integral_sum)"
   ]
  },
  {
   "cell_type": "code",
   "execution_count": 18,
   "id": "8928446b",
   "metadata": {},
   "outputs": [
    {
     "name": "stdout",
     "output_type": "stream",
     "text": [
      "Bond price based on Monte-Carlo simulation: $810.58\n"
     ]
    }
   ],
   "source": [
    " print('Bond price based on Monte-Carlo simulation: $%.2f' % bond_price)"
   ]
  },
  {
   "cell_type": "code",
   "execution_count": null,
   "id": "4e574820",
   "metadata": {},
   "outputs": [],
   "source": [
    "# # the higher the r0, less the bond price based on monte-carlo simulation"
   ]
  }
 ],
 "metadata": {
  "kernelspec": {
   "display_name": "Python 3 (ipykernel)",
   "language": "python",
   "name": "python3"
  },
  "language_info": {
   "codemirror_mode": {
    "name": "ipython",
    "version": 3
   },
   "file_extension": ".py",
   "mimetype": "text/x-python",
   "name": "python",
   "nbconvert_exporter": "python",
   "pygments_lexer": "ipython3",
   "version": "3.9.9"
  }
 },
 "nbformat": 4,
 "nbformat_minor": 5
}
