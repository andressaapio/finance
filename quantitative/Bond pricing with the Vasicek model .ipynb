{
 "cells": [
  {
   "cell_type": "code",
   "execution_count": 1,
   "id": "f9d56ec9",
   "metadata": {},
   "outputs": [],
   "source": [
    "import matplotlib.pyplot as plt\n",
    "import numpy as np\n",
    "import pandas as pd"
   ]
  },
  {
   "cell_type": "markdown",
   "id": "0cb6f467",
   "metadata": {},
   "source": [
    "O modelo de Vasicek prediz como os juros vão terminar no fim de um determinado período de tempo.\n",
    "\n",
    "$$ dr(t) = \\kappa (\\theta - r(t))dt + \\sigma dW(t) $$\n",
    "\n",
    "a taxa de juros vai flutuar ao redor de $ \\theta $ - onde $ \\kappa$ é a velocidade de reversão da média, $\\sigma$ é o desvio padrão e dW é o processo de Wiener."
   ]
  },
  {
   "cell_type": "code",
   "execution_count": 2,
   "id": "a8f5a452",
   "metadata": {},
   "outputs": [],
   "source": [
    "# serão simulados 1000 r(t) taxas de juros \n",
    "NUM_OF_SIMULATIONS = 1000\n",
    "# pontos utilizados durante a simulação de r(t)\n",
    "NUM_OF_POINTS = 2000"
   ]
  },
  {
   "cell_type": "code",
   "execution_count": 21,
   "id": "477a9690",
   "metadata": {},
   "outputs": [],
   "source": [
    "x = 1000 # quantidade principal de dinheiro\n",
    "r0 = 0.1 # taxa de juros inicial\n",
    "kappa = 0.3 # velocidade da reversão da média\n",
    "theta = 0.9 # taxa de juros a longo prazo \n",
    "sigma = 0.03 # desvio padrão\n",
    "T = 1. # duração de tempo - ano"
   ]
  },
  {
   "cell_type": "markdown",
   "id": "94b61626",
   "metadata": {},
   "source": [
    "## Simulação de Monte Carlo e do modelo de Vasicek "
   ]
  },
  {
   "cell_type": "code",
   "execution_count": 22,
   "id": "df796034",
   "metadata": {},
   "outputs": [],
   "source": [
    "dt = T / float(NUM_OF_POINTS)\n",
    "result = []\n",
    "\n",
    "for _ in range(NUM_OF_SIMULATIONS): \n",
    "    rates = [r0]\n",
    "    for _ in range(NUM_OF_POINTS):\n",
    "        dr = kappa * (theta - rates[-1]) * dt + sigma * np.sqrt(dt) * np.random.normal()\n",
    "        rates.append(rates[-1] + dr)\n",
    "\n",
    "    result.append(rates)"
   ]
  },
  {
   "cell_type": "markdown",
   "id": "7613acee",
   "metadata": {},
   "source": [
    "## Cálculo da integral para o cálculo do bond price"
   ]
  },
  {
   "cell_type": "code",
   "execution_count": 23,
   "id": "0e271d40",
   "metadata": {},
   "outputs": [],
   "source": [
    "simulation_data = pd.DataFrame(result)\n",
    "simulation_data = simulation_data.T\n",
    "\n",
    "# calcula a integral de r(t) baseado nos caminhos simulados \n",
    "integral_sum = simulation_data.sum() * dt\n",
    "\n",
    "# valor atual de um futuro futuro \n",
    "present_integral_sum = np.exp(-integral_sum)\n",
    "\n",
    "bond_price = x * np.mean(present_integral_sum)"
   ]
  },
  {
   "cell_type": "code",
   "execution_count": 24,
   "id": "8928446b",
   "metadata": {},
   "outputs": [
    {
     "name": "stdout",
     "output_type": "stream",
     "text": [
      "Bond price  baseado na simulação de Monte-Carlo: $811.96\n"
     ]
    }
   ],
   "source": [
    " print('Bond price  baseado na simulação de Monte-Carlo: $%.2f' % bond_price)"
   ]
  },
  {
   "cell_type": "code",
   "execution_count": 25,
   "id": "4e574820",
   "metadata": {},
   "outputs": [],
   "source": [
    "# quanto maior r0, menor vai ser o valor do bond price baseado na simulação de monte-carlo\n",
    "# preciso de 1000 reais daqui um ano, então o valor a ser investido é 811"
   ]
  },
  {
   "cell_type": "code",
   "execution_count": null,
   "id": "0ac8df9c",
   "metadata": {},
   "outputs": [],
   "source": []
  }
 ],
 "metadata": {
  "kernelspec": {
   "display_name": "Python 3 (ipykernel)",
   "language": "python",
   "name": "python3"
  },
  "language_info": {
   "codemirror_mode": {
    "name": "ipython",
    "version": 3
   },
   "file_extension": ".py",
   "mimetype": "text/x-python",
   "name": "python",
   "nbconvert_exporter": "python",
   "pygments_lexer": "ipython3",
   "version": "3.9.9"
  }
 },
 "nbformat": 4,
 "nbformat_minor": 5
}
