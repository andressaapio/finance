{
 "cells": [
  {
   "cell_type": "markdown",
   "metadata": {},
   "source": [
    "Neste notebook são realizadas análises básicas em relação às estatísticas dos ativos e da carteira, como retorno normalizado e alocação. Também são calculadas métricas como risco e retorno."
   ]
  },
  {
   "cell_type": "code",
   "execution_count": 1,
   "metadata": {},
   "outputs": [],
   "source": [
    "import yfinance as yf\n",
    "import datetime\n",
    "import matplotlib.pyplot as plt\n",
    "import pandas as pd\n",
    "import numpy as np"
   ]
  },
  {
   "cell_type": "markdown",
   "metadata": {},
   "source": [
    "## Download dos dados"
   ]
  },
  {
   "cell_type": "code",
   "execution_count": 2,
   "metadata": {},
   "outputs": [],
   "source": [
    "start = datetime.datetime(2012, 1, 1)\n",
    "end = datetime.datetime(2017, 1, 1)\n",
    "\n",
    "stocks = ['AAPL', 'TSLA', 'IBM', 'AMZN']\n",
    "\n",
    "allocation = [.3, .2, .4, .1]\n",
    "\n",
    "money_invested = 1000000"
   ]
  },
  {
   "cell_type": "code",
   "execution_count": 3,
   "metadata": {},
   "outputs": [
    {
     "name": "stdout",
     "output_type": "stream",
     "text": [
      "[*********************100%***********************]  4 of 4 completed\n"
     ]
    }
   ],
   "source": [
    "stock_df = yf.download(stocks, start = start, end = end)['Adj Close']"
   ]
  },
  {
   "cell_type": "code",
   "execution_count": 4,
   "metadata": {},
   "outputs": [
    {
     "data": {
      "text/html": [
       "<div>\n",
       "<style scoped>\n",
       "    .dataframe tbody tr th:only-of-type {\n",
       "        vertical-align: middle;\n",
       "    }\n",
       "\n",
       "    .dataframe tbody tr th {\n",
       "        vertical-align: top;\n",
       "    }\n",
       "\n",
       "    .dataframe thead th {\n",
       "        text-align: right;\n",
       "    }\n",
       "</style>\n",
       "<table border=\"1\" class=\"dataframe\">\n",
       "  <thead>\n",
       "    <tr style=\"text-align: right;\">\n",
       "      <th></th>\n",
       "      <th>AAPL</th>\n",
       "      <th>AMZN</th>\n",
       "      <th>IBM</th>\n",
       "      <th>TSLA</th>\n",
       "    </tr>\n",
       "    <tr>\n",
       "      <th>Date</th>\n",
       "      <th></th>\n",
       "      <th></th>\n",
       "      <th></th>\n",
       "      <th></th>\n",
       "    </tr>\n",
       "  </thead>\n",
       "  <tbody>\n",
       "    <tr>\n",
       "      <th>2012-01-03</th>\n",
       "      <td>12.575915</td>\n",
       "      <td>179.029999</td>\n",
       "      <td>122.932228</td>\n",
       "      <td>5.616000</td>\n",
       "    </tr>\n",
       "    <tr>\n",
       "      <th>2012-01-04</th>\n",
       "      <td>12.643497</td>\n",
       "      <td>177.509995</td>\n",
       "      <td>122.430794</td>\n",
       "      <td>5.542000</td>\n",
       "    </tr>\n",
       "    <tr>\n",
       "      <th>2012-01-05</th>\n",
       "      <td>12.783865</td>\n",
       "      <td>177.610001</td>\n",
       "      <td>121.850067</td>\n",
       "      <td>5.424000</td>\n",
       "    </tr>\n",
       "    <tr>\n",
       "      <th>2012-01-06</th>\n",
       "      <td>12.917510</td>\n",
       "      <td>182.610001</td>\n",
       "      <td>120.451172</td>\n",
       "      <td>5.382000</td>\n",
       "    </tr>\n",
       "    <tr>\n",
       "      <th>2012-01-09</th>\n",
       "      <td>12.897017</td>\n",
       "      <td>178.559998</td>\n",
       "      <td>119.824280</td>\n",
       "      <td>5.450000</td>\n",
       "    </tr>\n",
       "    <tr>\n",
       "      <th>...</th>\n",
       "      <td>...</td>\n",
       "      <td>...</td>\n",
       "      <td>...</td>\n",
       "      <td>...</td>\n",
       "    </tr>\n",
       "    <tr>\n",
       "      <th>2016-12-23</th>\n",
       "      <td>27.384651</td>\n",
       "      <td>760.590027</td>\n",
       "      <td>125.206604</td>\n",
       "      <td>42.667999</td>\n",
       "    </tr>\n",
       "    <tr>\n",
       "      <th>2016-12-27</th>\n",
       "      <td>27.558565</td>\n",
       "      <td>771.400024</td>\n",
       "      <td>125.529549</td>\n",
       "      <td>43.905998</td>\n",
       "    </tr>\n",
       "    <tr>\n",
       "      <th>2016-12-28</th>\n",
       "      <td>27.441057</td>\n",
       "      <td>772.130005</td>\n",
       "      <td>124.816071</td>\n",
       "      <td>43.948002</td>\n",
       "    </tr>\n",
       "    <tr>\n",
       "      <th>2016-12-29</th>\n",
       "      <td>27.434004</td>\n",
       "      <td>765.150024</td>\n",
       "      <td>125.124016</td>\n",
       "      <td>42.936001</td>\n",
       "    </tr>\n",
       "    <tr>\n",
       "      <th>2016-12-30</th>\n",
       "      <td>27.220131</td>\n",
       "      <td>749.869995</td>\n",
       "      <td>124.665894</td>\n",
       "      <td>42.737999</td>\n",
       "    </tr>\n",
       "  </tbody>\n",
       "</table>\n",
       "<p>1258 rows × 4 columns</p>\n",
       "</div>"
      ],
      "text/plain": [
       "                 AAPL        AMZN         IBM       TSLA\n",
       "Date                                                    \n",
       "2012-01-03  12.575915  179.029999  122.932228   5.616000\n",
       "2012-01-04  12.643497  177.509995  122.430794   5.542000\n",
       "2012-01-05  12.783865  177.610001  121.850067   5.424000\n",
       "2012-01-06  12.917510  182.610001  120.451172   5.382000\n",
       "2012-01-09  12.897017  178.559998  119.824280   5.450000\n",
       "...               ...         ...         ...        ...\n",
       "2016-12-23  27.384651  760.590027  125.206604  42.667999\n",
       "2016-12-27  27.558565  771.400024  125.529549  43.905998\n",
       "2016-12-28  27.441057  772.130005  124.816071  43.948002\n",
       "2016-12-29  27.434004  765.150024  125.124016  42.936001\n",
       "2016-12-30  27.220131  749.869995  124.665894  42.737999\n",
       "\n",
       "[1258 rows x 4 columns]"
      ]
     },
     "execution_count": 4,
     "metadata": {},
     "output_type": "execute_result"
    }
   ],
   "source": [
    "stock_df"
   ]
  },
  {
   "cell_type": "markdown",
   "metadata": {},
   "source": [
    "## Retornos normalizados"
   ]
  },
  {
   "cell_type": "code",
   "execution_count": 41,
   "metadata": {},
   "outputs": [
    {
     "data": {
      "text/html": [
       "<div>\n",
       "<style scoped>\n",
       "    .dataframe tbody tr th:only-of-type {\n",
       "        vertical-align: middle;\n",
       "    }\n",
       "\n",
       "    .dataframe tbody tr th {\n",
       "        vertical-align: top;\n",
       "    }\n",
       "\n",
       "    .dataframe thead th {\n",
       "        text-align: right;\n",
       "    }\n",
       "</style>\n",
       "<table border=\"1\" class=\"dataframe\">\n",
       "  <thead>\n",
       "    <tr style=\"text-align: right;\">\n",
       "      <th></th>\n",
       "      <th>AAPL</th>\n",
       "      <th>AMZN</th>\n",
       "      <th>IBM</th>\n",
       "      <th>TSLA</th>\n",
       "    </tr>\n",
       "    <tr>\n",
       "      <th>Date</th>\n",
       "      <th></th>\n",
       "      <th></th>\n",
       "      <th></th>\n",
       "      <th></th>\n",
       "    </tr>\n",
       "  </thead>\n",
       "  <tbody>\n",
       "    <tr>\n",
       "      <th>2012-01-03</th>\n",
       "      <td>1.000000</td>\n",
       "      <td>1.000000</td>\n",
       "      <td>1.000000</td>\n",
       "      <td>1.000000</td>\n",
       "    </tr>\n",
       "    <tr>\n",
       "      <th>2012-01-04</th>\n",
       "      <td>1.005374</td>\n",
       "      <td>0.991510</td>\n",
       "      <td>0.995921</td>\n",
       "      <td>0.986823</td>\n",
       "    </tr>\n",
       "    <tr>\n",
       "      <th>2012-01-05</th>\n",
       "      <td>1.016536</td>\n",
       "      <td>0.992068</td>\n",
       "      <td>0.991197</td>\n",
       "      <td>0.965812</td>\n",
       "    </tr>\n",
       "    <tr>\n",
       "      <th>2012-01-06</th>\n",
       "      <td>1.027163</td>\n",
       "      <td>1.019997</td>\n",
       "      <td>0.979818</td>\n",
       "      <td>0.958333</td>\n",
       "    </tr>\n",
       "    <tr>\n",
       "      <th>2012-01-09</th>\n",
       "      <td>1.025533</td>\n",
       "      <td>0.997375</td>\n",
       "      <td>0.974718</td>\n",
       "      <td>0.970442</td>\n",
       "    </tr>\n",
       "    <tr>\n",
       "      <th>...</th>\n",
       "      <td>...</td>\n",
       "      <td>...</td>\n",
       "      <td>...</td>\n",
       "      <td>...</td>\n",
       "    </tr>\n",
       "    <tr>\n",
       "      <th>2016-12-23</th>\n",
       "      <td>2.177547</td>\n",
       "      <td>4.248394</td>\n",
       "      <td>1.018501</td>\n",
       "      <td>7.597578</td>\n",
       "    </tr>\n",
       "    <tr>\n",
       "      <th>2016-12-27</th>\n",
       "      <td>2.191376</td>\n",
       "      <td>4.308775</td>\n",
       "      <td>1.021128</td>\n",
       "      <td>7.818019</td>\n",
       "    </tr>\n",
       "    <tr>\n",
       "      <th>2016-12-28</th>\n",
       "      <td>2.182033</td>\n",
       "      <td>4.312853</td>\n",
       "      <td>1.015324</td>\n",
       "      <td>7.825499</td>\n",
       "    </tr>\n",
       "    <tr>\n",
       "      <th>2016-12-29</th>\n",
       "      <td>2.181472</td>\n",
       "      <td>4.273865</td>\n",
       "      <td>1.017829</td>\n",
       "      <td>7.645299</td>\n",
       "    </tr>\n",
       "    <tr>\n",
       "      <th>2016-12-30</th>\n",
       "      <td>2.164465</td>\n",
       "      <td>4.188516</td>\n",
       "      <td>1.014103</td>\n",
       "      <td>7.610042</td>\n",
       "    </tr>\n",
       "  </tbody>\n",
       "</table>\n",
       "<p>1258 rows × 4 columns</p>\n",
       "</div>"
      ],
      "text/plain": [
       "                AAPL      AMZN       IBM      TSLA\n",
       "Date                                              \n",
       "2012-01-03  1.000000  1.000000  1.000000  1.000000\n",
       "2012-01-04  1.005374  0.991510  0.995921  0.986823\n",
       "2012-01-05  1.016536  0.992068  0.991197  0.965812\n",
       "2012-01-06  1.027163  1.019997  0.979818  0.958333\n",
       "2012-01-09  1.025533  0.997375  0.974718  0.970442\n",
       "...              ...       ...       ...       ...\n",
       "2016-12-23  2.177547  4.248394  1.018501  7.597578\n",
       "2016-12-27  2.191376  4.308775  1.021128  7.818019\n",
       "2016-12-28  2.182033  4.312853  1.015324  7.825499\n",
       "2016-12-29  2.181472  4.273865  1.017829  7.645299\n",
       "2016-12-30  2.164465  4.188516  1.014103  7.610042\n",
       "\n",
       "[1258 rows x 4 columns]"
      ]
     },
     "execution_count": 41,
     "metadata": {},
     "output_type": "execute_result"
    }
   ],
   "source": [
    "norm_df = stock_df / stock_df.iloc[0]\n",
    "norm_df"
   ]
  },
  {
   "cell_type": "markdown",
   "metadata": {},
   "source": [
    "## Alocação do portfólio"
   ]
  },
  {
   "cell_type": "code",
   "execution_count": 7,
   "metadata": {},
   "outputs": [],
   "source": [
    "portfolio = pd.DataFrame()\n",
    "for stock, allo in zip(stocks, allocation):\n",
    "    portfolio[stock] = norm_df[stock] * allo * money_invested"
   ]
  },
  {
   "cell_type": "code",
   "execution_count": 40,
   "metadata": {},
   "outputs": [
    {
     "data": {
      "text/html": [
       "<div>\n",
       "<style scoped>\n",
       "    .dataframe tbody tr th:only-of-type {\n",
       "        vertical-align: middle;\n",
       "    }\n",
       "\n",
       "    .dataframe tbody tr th {\n",
       "        vertical-align: top;\n",
       "    }\n",
       "\n",
       "    .dataframe thead th {\n",
       "        text-align: right;\n",
       "    }\n",
       "</style>\n",
       "<table border=\"1\" class=\"dataframe\">\n",
       "  <thead>\n",
       "    <tr style=\"text-align: right;\">\n",
       "      <th></th>\n",
       "      <th>AAPL</th>\n",
       "      <th>TSLA</th>\n",
       "      <th>IBM</th>\n",
       "      <th>AMZN</th>\n",
       "      <th>total</th>\n",
       "      <th>return</th>\n",
       "    </tr>\n",
       "    <tr>\n",
       "      <th>Date</th>\n",
       "      <th></th>\n",
       "      <th></th>\n",
       "      <th></th>\n",
       "      <th></th>\n",
       "      <th></th>\n",
       "      <th></th>\n",
       "    </tr>\n",
       "  </thead>\n",
       "  <tbody>\n",
       "    <tr>\n",
       "      <th>2012-01-03</th>\n",
       "      <td>300000.000000</td>\n",
       "      <td>2.000000e+05</td>\n",
       "      <td>400000.000000</td>\n",
       "      <td>100000.000000</td>\n",
       "      <td>2.000000e+06</td>\n",
       "      <td>NaN</td>\n",
       "    </tr>\n",
       "    <tr>\n",
       "      <th>2012-01-04</th>\n",
       "      <td>301612.157245</td>\n",
       "      <td>1.973647e+05</td>\n",
       "      <td>398368.420278</td>\n",
       "      <td>99150.977890</td>\n",
       "      <td>1.992992e+06</td>\n",
       "      <td>-0.003504</td>\n",
       "    </tr>\n",
       "    <tr>\n",
       "      <th>2012-01-05</th>\n",
       "      <td>304960.664082</td>\n",
       "      <td>1.931624e+05</td>\n",
       "      <td>396478.837270</td>\n",
       "      <td>99206.837860</td>\n",
       "      <td>1.987617e+06</td>\n",
       "      <td>-0.002697</td>\n",
       "    </tr>\n",
       "    <tr>\n",
       "      <th>2012-01-06</th>\n",
       "      <td>308148.783295</td>\n",
       "      <td>1.916667e+05</td>\n",
       "      <td>391927.076400</td>\n",
       "      <td>101999.665897</td>\n",
       "      <td>1.987484e+06</td>\n",
       "      <td>-0.000067</td>\n",
       "    </tr>\n",
       "    <tr>\n",
       "      <th>2012-01-09</th>\n",
       "      <td>307659.908167</td>\n",
       "      <td>1.940883e+05</td>\n",
       "      <td>389887.279027</td>\n",
       "      <td>99737.473483</td>\n",
       "      <td>1.982746e+06</td>\n",
       "      <td>-0.002384</td>\n",
       "    </tr>\n",
       "    <tr>\n",
       "      <th>...</th>\n",
       "      <td>...</td>\n",
       "      <td>...</td>\n",
       "      <td>...</td>\n",
       "      <td>...</td>\n",
       "      <td>...</td>\n",
       "      <td>...</td>\n",
       "    </tr>\n",
       "    <tr>\n",
       "      <th>2016-12-23</th>\n",
       "      <td>653264.206647</td>\n",
       "      <td>1.519516e+06</td>\n",
       "      <td>407400.422008</td>\n",
       "      <td>424839.430286</td>\n",
       "      <td>6.010039e+06</td>\n",
       "      <td>0.010781</td>\n",
       "    </tr>\n",
       "    <tr>\n",
       "      <th>2016-12-27</th>\n",
       "      <td>657412.945352</td>\n",
       "      <td>1.563604e+06</td>\n",
       "      <td>408451.227467</td>\n",
       "      <td>430877.523138</td>\n",
       "      <td>6.120691e+06</td>\n",
       "      <td>0.018411</td>\n",
       "    </tr>\n",
       "    <tr>\n",
       "      <th>2016-12-28</th>\n",
       "      <td>654609.779186</td>\n",
       "      <td>1.565100e+06</td>\n",
       "      <td>406129.694377</td>\n",
       "      <td>431285.265122</td>\n",
       "      <td>6.114249e+06</td>\n",
       "      <td>-0.001053</td>\n",
       "    </tr>\n",
       "    <tr>\n",
       "      <th>2016-12-29</th>\n",
       "      <td>654441.520056</td>\n",
       "      <td>1.529060e+06</td>\n",
       "      <td>407131.694443</td>\n",
       "      <td>427386.488092</td>\n",
       "      <td>6.036039e+06</td>\n",
       "      <td>-0.012791</td>\n",
       "    </tr>\n",
       "    <tr>\n",
       "      <th>2016-12-30</th>\n",
       "      <td>649339.555615</td>\n",
       "      <td>1.522008e+06</td>\n",
       "      <td>405641.044641</td>\n",
       "      <td>418851.589248</td>\n",
       "      <td>5.991681e+06</td>\n",
       "      <td>-0.007349</td>\n",
       "    </tr>\n",
       "  </tbody>\n",
       "</table>\n",
       "<p>1258 rows × 6 columns</p>\n",
       "</div>"
      ],
      "text/plain": [
       "                     AAPL          TSLA            IBM           AMZN  \\\n",
       "Date                                                                    \n",
       "2012-01-03  300000.000000  2.000000e+05  400000.000000  100000.000000   \n",
       "2012-01-04  301612.157245  1.973647e+05  398368.420278   99150.977890   \n",
       "2012-01-05  304960.664082  1.931624e+05  396478.837270   99206.837860   \n",
       "2012-01-06  308148.783295  1.916667e+05  391927.076400  101999.665897   \n",
       "2012-01-09  307659.908167  1.940883e+05  389887.279027   99737.473483   \n",
       "...                   ...           ...            ...            ...   \n",
       "2016-12-23  653264.206647  1.519516e+06  407400.422008  424839.430286   \n",
       "2016-12-27  657412.945352  1.563604e+06  408451.227467  430877.523138   \n",
       "2016-12-28  654609.779186  1.565100e+06  406129.694377  431285.265122   \n",
       "2016-12-29  654441.520056  1.529060e+06  407131.694443  427386.488092   \n",
       "2016-12-30  649339.555615  1.522008e+06  405641.044641  418851.589248   \n",
       "\n",
       "                   total    return  \n",
       "Date                                \n",
       "2012-01-03  2.000000e+06       NaN  \n",
       "2012-01-04  1.992992e+06 -0.003504  \n",
       "2012-01-05  1.987617e+06 -0.002697  \n",
       "2012-01-06  1.987484e+06 -0.000067  \n",
       "2012-01-09  1.982746e+06 -0.002384  \n",
       "...                  ...       ...  \n",
       "2016-12-23  6.010039e+06  0.010781  \n",
       "2016-12-27  6.120691e+06  0.018411  \n",
       "2016-12-28  6.114249e+06 -0.001053  \n",
       "2016-12-29  6.036039e+06 -0.012791  \n",
       "2016-12-30  5.991681e+06 -0.007349  \n",
       "\n",
       "[1258 rows x 6 columns]"
      ]
     },
     "execution_count": 40,
     "metadata": {},
     "output_type": "execute_result"
    }
   ],
   "source": [
    "portfolio['total'] = portfolio.sum(axis=1)\n",
    "portfolio"
   ]
  },
  {
   "cell_type": "code",
   "execution_count": 10,
   "metadata": {},
   "outputs": [
    {
     "data": {
      "text/plain": [
       "<AxesSubplot:xlabel='Date'>"
      ]
     },
     "execution_count": 10,
     "metadata": {},
     "output_type": "execute_result"
    },
    {
     "data": {
      "image/png": "[encoded data removed]",
      "text/plain": [
       "<Figure size 1080x576 with 1 Axes>"
      ]
     },
     "metadata": {
      "needs_background": "light"
     },
     "output_type": "display_data"
    }
   ],
   "source": [
    "portfolio.plot(figsize=(15,8))"
   ]
  },
  {
   "cell_type": "markdown",
   "metadata": {},
   "source": [
    "## Estatísticas do portfólio"
   ]
  },
  {
   "cell_type": "code",
   "execution_count": 39,
   "metadata": {},
   "outputs": [
    {
     "data": {
      "text/html": [
       "<div>\n",
       "<style scoped>\n",
       "    .dataframe tbody tr th:only-of-type {\n",
       "        vertical-align: middle;\n",
       "    }\n",
       "\n",
       "    .dataframe tbody tr th {\n",
       "        vertical-align: top;\n",
       "    }\n",
       "\n",
       "    .dataframe thead th {\n",
       "        text-align: right;\n",
       "    }\n",
       "</style>\n",
       "<table border=\"1\" class=\"dataframe\">\n",
       "  <thead>\n",
       "    <tr style=\"text-align: right;\">\n",
       "      <th></th>\n",
       "      <th>AAPL</th>\n",
       "      <th>TSLA</th>\n",
       "      <th>IBM</th>\n",
       "      <th>AMZN</th>\n",
       "      <th>total</th>\n",
       "      <th>return</th>\n",
       "    </tr>\n",
       "    <tr>\n",
       "      <th>Date</th>\n",
       "      <th></th>\n",
       "      <th></th>\n",
       "      <th></th>\n",
       "      <th></th>\n",
       "      <th></th>\n",
       "      <th></th>\n",
       "    </tr>\n",
       "  </thead>\n",
       "  <tbody>\n",
       "    <tr>\n",
       "      <th>2012-01-03</th>\n",
       "      <td>300000.000000</td>\n",
       "      <td>2.000000e+05</td>\n",
       "      <td>400000.000000</td>\n",
       "      <td>100000.000000</td>\n",
       "      <td>1.000000e+06</td>\n",
       "      <td>NaN</td>\n",
       "    </tr>\n",
       "    <tr>\n",
       "      <th>2012-01-04</th>\n",
       "      <td>301612.157245</td>\n",
       "      <td>1.973647e+05</td>\n",
       "      <td>398368.420278</td>\n",
       "      <td>99150.977890</td>\n",
       "      <td>9.964962e+05</td>\n",
       "      <td>-0.003504</td>\n",
       "    </tr>\n",
       "    <tr>\n",
       "      <th>2012-01-05</th>\n",
       "      <td>304960.664082</td>\n",
       "      <td>1.931624e+05</td>\n",
       "      <td>396478.837270</td>\n",
       "      <td>99206.837860</td>\n",
       "      <td>9.938087e+05</td>\n",
       "      <td>-0.002697</td>\n",
       "    </tr>\n",
       "    <tr>\n",
       "      <th>2012-01-06</th>\n",
       "      <td>308148.783295</td>\n",
       "      <td>1.916667e+05</td>\n",
       "      <td>391927.076400</td>\n",
       "      <td>101999.665897</td>\n",
       "      <td>9.937422e+05</td>\n",
       "      <td>-0.000067</td>\n",
       "    </tr>\n",
       "    <tr>\n",
       "      <th>2012-01-09</th>\n",
       "      <td>307659.908167</td>\n",
       "      <td>1.940883e+05</td>\n",
       "      <td>389887.279027</td>\n",
       "      <td>99737.473483</td>\n",
       "      <td>9.913730e+05</td>\n",
       "      <td>-0.002384</td>\n",
       "    </tr>\n",
       "    <tr>\n",
       "      <th>...</th>\n",
       "      <td>...</td>\n",
       "      <td>...</td>\n",
       "      <td>...</td>\n",
       "      <td>...</td>\n",
       "      <td>...</td>\n",
       "      <td>...</td>\n",
       "    </tr>\n",
       "    <tr>\n",
       "      <th>2016-12-23</th>\n",
       "      <td>653264.206647</td>\n",
       "      <td>1.519516e+06</td>\n",
       "      <td>407400.422008</td>\n",
       "      <td>424839.430286</td>\n",
       "      <td>3.005020e+06</td>\n",
       "      <td>0.010781</td>\n",
       "    </tr>\n",
       "    <tr>\n",
       "      <th>2016-12-27</th>\n",
       "      <td>657412.945352</td>\n",
       "      <td>1.563604e+06</td>\n",
       "      <td>408451.227467</td>\n",
       "      <td>430877.523138</td>\n",
       "      <td>3.060346e+06</td>\n",
       "      <td>0.018411</td>\n",
       "    </tr>\n",
       "    <tr>\n",
       "      <th>2016-12-28</th>\n",
       "      <td>654609.779186</td>\n",
       "      <td>1.565100e+06</td>\n",
       "      <td>406129.694377</td>\n",
       "      <td>431285.265122</td>\n",
       "      <td>3.057124e+06</td>\n",
       "      <td>-0.001053</td>\n",
       "    </tr>\n",
       "    <tr>\n",
       "      <th>2016-12-29</th>\n",
       "      <td>654441.520056</td>\n",
       "      <td>1.529060e+06</td>\n",
       "      <td>407131.694443</td>\n",
       "      <td>427386.488092</td>\n",
       "      <td>3.018020e+06</td>\n",
       "      <td>-0.012791</td>\n",
       "    </tr>\n",
       "    <tr>\n",
       "      <th>2016-12-30</th>\n",
       "      <td>649339.555615</td>\n",
       "      <td>1.522008e+06</td>\n",
       "      <td>405641.044641</td>\n",
       "      <td>418851.589248</td>\n",
       "      <td>2.995841e+06</td>\n",
       "      <td>-0.007349</td>\n",
       "    </tr>\n",
       "  </tbody>\n",
       "</table>\n",
       "<p>1258 rows × 6 columns</p>\n",
       "</div>"
      ],
      "text/plain": [
       "                     AAPL          TSLA            IBM           AMZN  \\\n",
       "Date                                                                    \n",
       "2012-01-03  300000.000000  2.000000e+05  400000.000000  100000.000000   \n",
       "2012-01-04  301612.157245  1.973647e+05  398368.420278   99150.977890   \n",
       "2012-01-05  304960.664082  1.931624e+05  396478.837270   99206.837860   \n",
       "2012-01-06  308148.783295  1.916667e+05  391927.076400  101999.665897   \n",
       "2012-01-09  307659.908167  1.940883e+05  389887.279027   99737.473483   \n",
       "...                   ...           ...            ...            ...   \n",
       "2016-12-23  653264.206647  1.519516e+06  407400.422008  424839.430286   \n",
       "2016-12-27  657412.945352  1.563604e+06  408451.227467  430877.523138   \n",
       "2016-12-28  654609.779186  1.565100e+06  406129.694377  431285.265122   \n",
       "2016-12-29  654441.520056  1.529060e+06  407131.694443  427386.488092   \n",
       "2016-12-30  649339.555615  1.522008e+06  405641.044641  418851.589248   \n",
       "\n",
       "                   total    return  \n",
       "Date                                \n",
       "2012-01-03  1.000000e+06       NaN  \n",
       "2012-01-04  9.964962e+05 -0.003504  \n",
       "2012-01-05  9.938087e+05 -0.002697  \n",
       "2012-01-06  9.937422e+05 -0.000067  \n",
       "2012-01-09  9.913730e+05 -0.002384  \n",
       "...                  ...       ...  \n",
       "2016-12-23  3.005020e+06  0.010781  \n",
       "2016-12-27  3.060346e+06  0.018411  \n",
       "2016-12-28  3.057124e+06 -0.001053  \n",
       "2016-12-29  3.018020e+06 -0.012791  \n",
       "2016-12-30  2.995841e+06 -0.007349  \n",
       "\n",
       "[1258 rows x 6 columns]"
      ]
     },
     "execution_count": 39,
     "metadata": {},
     "output_type": "execute_result"
    }
   ],
   "source": [
    "portfolio['return'] = portfolio['total'].pct_change(1)\n",
    "portfolio"
   ]
  },
  {
   "cell_type": "code",
   "execution_count": 25,
   "metadata": {},
   "outputs": [
    {
     "data": {
      "text/plain": [
       "<AxesSubplot:ylabel='Frequency'>"
      ]
     },
     "execution_count": 25,
     "metadata": {},
     "output_type": "execute_result"
    },
    {
     "data": {
      "image/png": "[encoded data removed]",
      "text/plain": [
       "<Figure size 288x360 with 1 Axes>"
      ]
     },
     "metadata": {
      "needs_background": "light"
     },
     "output_type": "display_data"
    }
   ],
   "source": [
    "portfolio['return'].plot(kind='hist', bins=100, figsize=(4,5))"
   ]
  },
  {
   "cell_type": "code",
   "execution_count": 13,
   "metadata": {},
   "outputs": [
    {
     "data": {
      "text/plain": [
       "0.0010204900992736062"
      ]
     },
     "execution_count": 13,
     "metadata": {},
     "output_type": "execute_result"
    }
   ],
   "source": [
    "portfolio['return'].mean()"
   ]
  },
  {
   "cell_type": "code",
   "execution_count": 14,
   "metadata": {},
   "outputs": [
    {
     "data": {
      "text/plain": [
       "25.71635050169488"
      ]
     },
     "execution_count": 14,
     "metadata": {},
     "output_type": "execute_result"
    }
   ],
   "source": [
    "portfolio['return'].mean() * 100 * 252 # rentabilidade anual"
   ]
  },
  {
   "cell_type": "code",
   "execution_count": 15,
   "metadata": {},
   "outputs": [
    {
     "data": {
      "text/plain": [
       "0.017178270346414056"
      ]
     },
     "execution_count": 15,
     "metadata": {},
     "output_type": "execute_result"
    }
   ],
   "source": [
    "portfolio['return'].std()"
   ]
  },
  {
   "cell_type": "markdown",
   "metadata": {},
   "source": [
    "## Retorno e risco"
   ]
  },
  {
   "cell_type": "code",
   "execution_count": 32,
   "metadata": {},
   "outputs": [],
   "source": [
    "returns = portfolio.drop(['total','return'], axis = 1).pct_change()"
   ]
  },
  {
   "cell_type": "code",
   "execution_count": 35,
   "metadata": {},
   "outputs": [
    {
     "data": {
      "text/html": [
       "<div>\n",
       "<style scoped>\n",
       "    .dataframe tbody tr th:only-of-type {\n",
       "        vertical-align: middle;\n",
       "    }\n",
       "\n",
       "    .dataframe tbody tr th {\n",
       "        vertical-align: top;\n",
       "    }\n",
       "\n",
       "    .dataframe thead th {\n",
       "        text-align: right;\n",
       "    }\n",
       "</style>\n",
       "<table border=\"1\" class=\"dataframe\">\n",
       "  <thead>\n",
       "    <tr style=\"text-align: right;\">\n",
       "      <th></th>\n",
       "      <th>mean</th>\n",
       "      <th>std</th>\n",
       "    </tr>\n",
       "  </thead>\n",
       "  <tbody>\n",
       "    <tr>\n",
       "      <th>AAPL</th>\n",
       "      <td>0.000750</td>\n",
       "      <td>0.016437</td>\n",
       "    </tr>\n",
       "    <tr>\n",
       "      <th>TSLA</th>\n",
       "      <td>0.002119</td>\n",
       "      <td>0.031909</td>\n",
       "    </tr>\n",
       "    <tr>\n",
       "      <th>IBM</th>\n",
       "      <td>0.000081</td>\n",
       "      <td>0.011756</td>\n",
       "    </tr>\n",
       "    <tr>\n",
       "      <th>AMZN</th>\n",
       "      <td>0.001328</td>\n",
       "      <td>0.019499</td>\n",
       "    </tr>\n",
       "  </tbody>\n",
       "</table>\n",
       "</div>"
      ],
      "text/plain": [
       "          mean       std\n",
       "AAPL  0.000750  0.016437\n",
       "TSLA  0.002119  0.031909\n",
       "IBM   0.000081  0.011756\n",
       "AMZN  0.001328  0.019499"
      ]
     },
     "execution_count": 35,
     "metadata": {},
     "output_type": "execute_result"
    }
   ],
   "source": [
    "summary = returns.describe().T.loc[:, [\"mean\", \"std\"]]\n",
    "summary"
   ]
  },
  {
   "cell_type": "code",
   "execution_count": 43,
   "metadata": {},
   "outputs": [
    {
     "data": {
      "text/html": [
       "<div>\n",
       "<style scoped>\n",
       "    .dataframe tbody tr th:only-of-type {\n",
       "        vertical-align: middle;\n",
       "    }\n",
       "\n",
       "    .dataframe tbody tr th {\n",
       "        vertical-align: top;\n",
       "    }\n",
       "\n",
       "    .dataframe thead th {\n",
       "        text-align: right;\n",
       "    }\n",
       "</style>\n",
       "<table border=\"1\" class=\"dataframe\">\n",
       "  <thead>\n",
       "    <tr style=\"text-align: right;\">\n",
       "      <th></th>\n",
       "      <th>mean</th>\n",
       "      <th>std</th>\n",
       "    </tr>\n",
       "  </thead>\n",
       "  <tbody>\n",
       "    <tr>\n",
       "      <th>AAPL</th>\n",
       "      <td>47.616387</td>\n",
       "      <td>4.142206</td>\n",
       "    </tr>\n",
       "    <tr>\n",
       "      <th>TSLA</th>\n",
       "      <td>134.574225</td>\n",
       "      <td>8.040973</td>\n",
       "    </tr>\n",
       "    <tr>\n",
       "      <th>IBM</th>\n",
       "      <td>5.123423</td>\n",
       "      <td>2.962477</td>\n",
       "    </tr>\n",
       "    <tr>\n",
       "      <th>AMZN</th>\n",
       "      <td>84.352746</td>\n",
       "      <td>4.913726</td>\n",
       "    </tr>\n",
       "  </tbody>\n",
       "</table>\n",
       "</div>"
      ],
      "text/plain": [
       "            mean       std\n",
       "AAPL   47.616387  4.142206\n",
       "TSLA  134.574225  8.040973\n",
       "IBM     5.123423  2.962477\n",
       "AMZN   84.352746  4.913726"
      ]
     },
     "execution_count": 43,
     "metadata": {},
     "output_type": "execute_result"
    }
   ],
   "source": [
    "summary[\"mean\"] = summary[\"mean\"] * 252 # anual\n",
    "summary[\"std\"] = summary[\"std\"] * np.sqrt(252) # anual\n",
    "summary"
   ]
  },
  {
   "cell_type": "code",
   "execution_count": 44,
   "metadata": {},
   "outputs": [
    {
     "data": {
      "image/png": "[encoded data removed]",
      "text/plain": [
       "<Figure size 1080x864 with 1 Axes>"
      ]
     },
     "metadata": {
      "needs_background": "light"
     },
     "output_type": "display_data"
    }
   ],
   "source": [
    "summary.plot(kind = \"scatter\", x = \"std\", y = \"mean\", figsize = (15,12), s = 50, fontsize = 15)\n",
    "for i in summary.index:\n",
    "    plt.annotate(i, xy=(summary.loc[i, \"std\"]+0.002, summary.loc[i, \"mean\"]+0.002), size = 15)\n",
    "plt.xlabel(\"ann. Risk(std)\", fontsize = 15)\n",
    "plt.ylabel(\"ann. Return\", fontsize = 15)\n",
    "plt.title(\"Risk/Return\", fontsize = 20)\n",
    "plt.show()"
   ]
  },
  {
   "cell_type": "markdown",
   "metadata": {},
   "source": [
    "## Retorno acumulado"
   ]
  },
  {
   "cell_type": "code",
   "execution_count": 36,
   "metadata": {},
   "outputs": [
    {
     "data": {
      "text/plain": [
       "199.58406520047524"
      ]
     },
     "execution_count": 36,
     "metadata": {},
     "output_type": "execute_result"
    }
   ],
   "source": [
    "cumulative_return = 100 * (portfolio['total'][-1] / portfolio['total'][0] -1)\n",
    "cumulative_return"
   ]
  },
  {
   "cell_type": "code",
   "execution_count": 19,
   "metadata": {},
   "outputs": [
    {
     "data": {
      "text/plain": [
       "2995840.6520047523"
      ]
     },
     "execution_count": 19,
     "metadata": {},
     "output_type": "execute_result"
    }
   ],
   "source": [
    "portfolio['total'][-1] # retorno final"
   ]
  },
  {
   "cell_type": "markdown",
   "metadata": {},
   "source": [
    "## Correlação entre os ativos"
   ]
  },
  {
   "cell_type": "code",
   "execution_count": 48,
   "metadata": {},
   "outputs": [
    {
     "data": {
      "text/html": [
       "<div>\n",
       "<style scoped>\n",
       "    .dataframe tbody tr th:only-of-type {\n",
       "        vertical-align: middle;\n",
       "    }\n",
       "\n",
       "    .dataframe tbody tr th {\n",
       "        vertical-align: top;\n",
       "    }\n",
       "\n",
       "    .dataframe thead th {\n",
       "        text-align: right;\n",
       "    }\n",
       "</style>\n",
       "<table border=\"1\" class=\"dataframe\">\n",
       "  <thead>\n",
       "    <tr style=\"text-align: right;\">\n",
       "      <th></th>\n",
       "      <th>AAPL</th>\n",
       "      <th>TSLA</th>\n",
       "      <th>IBM</th>\n",
       "      <th>AMZN</th>\n",
       "    </tr>\n",
       "  </thead>\n",
       "  <tbody>\n",
       "    <tr>\n",
       "      <th>AAPL</th>\n",
       "      <td>1.000000</td>\n",
       "      <td>0.192847</td>\n",
       "      <td>0.297803</td>\n",
       "      <td>0.235723</td>\n",
       "    </tr>\n",
       "    <tr>\n",
       "      <th>TSLA</th>\n",
       "      <td>0.192847</td>\n",
       "      <td>1.000000</td>\n",
       "      <td>0.193748</td>\n",
       "      <td>0.263922</td>\n",
       "    </tr>\n",
       "    <tr>\n",
       "      <th>IBM</th>\n",
       "      <td>0.297803</td>\n",
       "      <td>0.193748</td>\n",
       "      <td>1.000000</td>\n",
       "      <td>0.258555</td>\n",
       "    </tr>\n",
       "    <tr>\n",
       "      <th>AMZN</th>\n",
       "      <td>0.235723</td>\n",
       "      <td>0.263922</td>\n",
       "      <td>0.258555</td>\n",
       "      <td>1.000000</td>\n",
       "    </tr>\n",
       "  </tbody>\n",
       "</table>\n",
       "</div>"
      ],
      "text/plain": [
       "          AAPL      TSLA       IBM      AMZN\n",
       "AAPL  1.000000  0.192847  0.297803  0.235723\n",
       "TSLA  0.192847  1.000000  0.193748  0.263922\n",
       "IBM   0.297803  0.193748  1.000000  0.258555\n",
       "AMZN  0.235723  0.263922  0.258555  1.000000"
      ]
     },
     "execution_count": 48,
     "metadata": {},
     "output_type": "execute_result"
    }
   ],
   "source": [
    "returns.corr()"
   ]
  },
  {
   "cell_type": "code",
   "execution_count": 50,
   "metadata": {},
   "outputs": [
    {
     "data": {
      "text/plain": [
       "<AxesSubplot:>"
      ]
     },
     "execution_count": 50,
     "metadata": {},
     "output_type": "execute_result"
    },
    {
     "data": {
      "image/png": "[encoded data removed]",
      "text/plain": [
       "<Figure size 1080x720 with 2 Axes>"
      ]
     },
     "metadata": {},
     "output_type": "display_data"
    }
   ],
   "source": [
    "plt.figure(figsize=(15,10))\n",
    "sns.heatmap(returns.corr(), cmap=\"RdBu_r\")"
   ]
  },
  {
   "cell_type": "markdown",
   "metadata": {},
   "source": [
    "## Sharpe Ratio"
   ]
  },
  {
   "cell_type": "code",
   "execution_count": 38,
   "metadata": {},
   "outputs": [
    {
     "data": {
      "text/plain": [
       "0.05940587024738683"
      ]
     },
     "execution_count": 38,
     "metadata": {},
     "output_type": "execute_result"
    }
   ],
   "source": [
    "risk_free_rate = 0.0 \n",
    "SR = (portfolio['return'].mean() - risk_free_rate)/ portfolio['return'].std()\n",
    "SR # daily"
   ]
  },
  {
   "cell_type": "code",
   "execution_count": 37,
   "metadata": {},
   "outputs": [
    {
     "data": {
      "text/plain": [
       "0.94303895455174"
      ]
     },
     "execution_count": 37,
     "metadata": {},
     "output_type": "execute_result"
    }
   ],
   "source": [
    "ASR = (252**0.5) * SR # Sharpe Ratio anual\n",
    "ASR"
   ]
  },
  {
   "cell_type": "code",
   "execution_count": 24,
   "metadata": {},
   "outputs": [],
   "source": [
    "# SR > 1 -> bom\n",
    "# SR > 2 -> muito bom\n",
    "# SR > 3 -> excelente"
   ]
  },
  {
   "cell_type": "code",
   "execution_count": null,
   "metadata": {},
   "outputs": [],
   "source": []
  }
 ],
 "metadata": {
  "kernelspec": {
   "display_name": "Python 3 (ipykernel)",
   "language": "python",
   "name": "python3"
  },
  "language_info": {
   "codemirror_mode": {
    "name": "ipython",
    "version": 3
   },
   "file_extension": ".py",
   "mimetype": "text/x-python",
   "name": "python",
   "nbconvert_exporter": "python",
   "pygments_lexer": "ipython3",
   "version": "3.8.10"
  }
 },
 "nbformat": 4,
 "nbformat_minor": 4
}
