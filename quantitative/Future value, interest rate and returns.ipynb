{
 "cells": [
  {
   "cell_type": "markdown",
   "id": "c82bf07e",
   "metadata": {},
   "source": [
    "## Future value ou juros compostos\n",
    "\n",
    "No regime de juros compostos, os juros corrigíveis de cada período são somados ao capital para o cálculo de novos juros nos períodos seguintes. Nesse caso, o valor da dívida é sempre corrigida e a taxa de juros é calculada sobre esse novo valor. A fórmula de juros compostos pode ser escrita da seguinte maneira:\n",
    "\n",
    "\n",
    "$$ FV = PV(1+r)^n $$\n",
    "\n",
    "onde FV é o future value (valor futuro), PV é o present value (valor atual), r é o interest rate (taxa de juros) e n é o número de períodos (anos)\n"
   ]
  },
  {
   "cell_type": "markdown",
   "id": "aa6e7eaf",
   "metadata": {},
   "source": [
    "Calculate future values: You have 100 USD today and you save it for three years at an interest rate of 3%."
   ]
  },
  {
   "cell_type": "code",
   "execution_count": 1,
   "id": "83c6a456",
   "metadata": {},
   "outputs": [
    {
     "data": {
      "text/plain": [
       "109.2727"
      ]
     },
     "execution_count": 1,
     "metadata": {},
     "output_type": "execute_result"
    }
   ],
   "source": [
    "100 * (1 + 0.03)**3"
   ]
  },
  {
   "cell_type": "markdown",
   "id": "5a53ae37",
   "metadata": {},
   "source": [
    "Calculate present values: How much USD to save today at an interest rate of 4.5% p.a. to get 110 USD in three years?"
   ]
  },
  {
   "cell_type": "code",
   "execution_count": 2,
   "id": "3eca47d0",
   "metadata": {},
   "outputs": [
    {
     "data": {
      "text/plain": [
       "96.39262644604003"
      ]
     },
     "execution_count": 2,
     "metadata": {},
     "output_type": "execute_result"
    }
   ],
   "source": [
    "110 / (1 + 0.045)**3"
   ]
  },
  {
   "cell_type": "markdown",
   "id": "2dd9729d",
   "metadata": {},
   "source": [
    "## Interest rates\n",
    "\n",
    "$$ r = (\\frac{FV}{PV})^\\frac{1}{n} - 1 $$\n",
    "\n",
    "$$ r = \\frac{P_{t+1}}{P_t} - 1 $$"
   ]
  },
  {
   "cell_type": "markdown",
   "id": "86dfb40b",
   "metadata": {},
   "source": [
    "Today you receive the offer to deposit 90 USD in a savings account, getting back 93.5 USD in one year."
   ]
  },
  {
   "cell_type": "code",
   "execution_count": 3,
   "id": "e5f95011",
   "metadata": {},
   "outputs": [
    {
     "data": {
      "text/plain": [
       "0.03888888888888897"
      ]
     },
     "execution_count": 3,
     "metadata": {},
     "output_type": "execute_result"
    }
   ],
   "source": [
    "(93.5 / 90)**(1 / 1) - 1"
   ]
  },
  {
   "cell_type": "markdown",
   "id": "984f2780",
   "metadata": {},
   "source": [
    "Today you receive the offer to deposit 90 USD in a savings account, getting back 93.5 USD in three years."
   ]
  },
  {
   "cell_type": "code",
   "execution_count": 4,
   "id": "7124008b",
   "metadata": {},
   "outputs": [
    {
     "data": {
      "text/plain": [
       "0.012798463496144663"
      ]
     },
     "execution_count": 4,
     "metadata": {},
     "output_type": "execute_result"
    }
   ],
   "source": [
    "(93.5 / 90)**(1 / 3) - 1"
   ]
  },
  {
   "cell_type": "markdown",
   "id": "e8ec0418",
   "metadata": {},
   "source": [
    "Returns: One year ago you invested 50 USD in a stock that is now worth 56.5 USD"
   ]
  },
  {
   "cell_type": "code",
   "execution_count": 5,
   "id": "4c65d9c1",
   "metadata": {},
   "outputs": [
    {
     "data": {
      "text/plain": [
       "0.1299999999999999"
      ]
     },
     "execution_count": 5,
     "metadata": {},
     "output_type": "execute_result"
    }
   ],
   "source": [
    "56.5 / 50 - 1"
   ]
  },
  {
   "cell_type": "code",
   "execution_count": 6,
   "id": "9ace42b2",
   "metadata": {},
   "outputs": [
    {
     "data": {
      "text/plain": [
       "56.49999999999999"
      ]
     },
     "execution_count": 6,
     "metadata": {},
     "output_type": "execute_result"
    }
   ],
   "source": [
    "50 * 1.13"
   ]
  },
  {
   "cell_type": "code",
   "execution_count": null,
   "id": "27cf16d2",
   "metadata": {},
   "outputs": [],
   "source": []
  }
 ],
 "metadata": {
  "kernelspec": {
   "display_name": "Python 3 (ipykernel)",
   "language": "python",
   "name": "python3"
  },
  "language_info": {
   "codemirror_mode": {
    "name": "ipython",
    "version": 3
   },
   "file_extension": ".py",
   "mimetype": "text/x-python",
   "name": "python",
   "nbconvert_exporter": "python",
   "pygments_lexer": "ipython3",
   "version": "3.9.9"
  }
 },
 "nbformat": 4,
 "nbformat_minor": 5
}
