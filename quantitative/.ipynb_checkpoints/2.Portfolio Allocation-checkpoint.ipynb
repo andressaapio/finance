{
 "cells": [
  {
   "cell_type": "code",
   "execution_count": 1,
   "metadata": {},
   "outputs": [],
   "source": [
    "import yfinance as yf\n",
    "import datetime\n",
    "import matplotlib.pyplot as plt\n",
    "import pandas as pd"
   ]
  },
  {
   "cell_type": "code",
   "execution_count": 3,
   "metadata": {},
   "outputs": [],
   "source": [
    "start = datetime.datetime(2012, 1, 1)\n",
    "end = datetime.datetime(2017, 1, 1)"
   ]
  },
  {
   "cell_type": "code",
   "execution_count": 55,
   "metadata": {},
   "outputs": [
    {
     "name": "stdout",
     "output_type": "stream",
     "text": [
      "[*********************100%***********************]  1 of 1 completed\n",
      "[*********************100%***********************]  1 of 1 completed\n",
      "[*********************100%***********************]  1 of 1 completed\n",
      "[*********************100%***********************]  1 of 1 completed\n"
     ]
    }
   ],
   "source": [
    "aapl = yf.download('AAPL', start = start, end = end)\n",
    "cisco = yf.download('CSCO', start = start, end = end)\n",
    "ibm = yf.download('IBM', start = start, end = end)\n",
    "amzn = yf.download('AMZN', start = start, end = end)"
   ]
  },
  {
   "cell_type": "code",
   "execution_count": 60,
   "metadata": {},
   "outputs": [],
   "source": [
    "# Normed return"
   ]
  },
  {
   "cell_type": "code",
   "execution_count": 58,
   "metadata": {},
   "outputs": [],
   "source": [
    "for stock_df in (aapl,cisco,ibm,amzn):\n",
    "    stock_df['Normed Return'] = stock_df['Adj Close'] / stock_df.iloc[0]['Adj Close']"
   ]
  },
  {
   "cell_type": "code",
   "execution_count": 59,
   "metadata": {},
   "outputs": [
    {
     "data": {
      "text/html": [
       "<div>\n",
       "<style scoped>\n",
       "    .dataframe tbody tr th:only-of-type {\n",
       "        vertical-align: middle;\n",
       "    }\n",
       "\n",
       "    .dataframe tbody tr th {\n",
       "        vertical-align: top;\n",
       "    }\n",
       "\n",
       "    .dataframe thead th {\n",
       "        text-align: right;\n",
       "    }\n",
       "</style>\n",
       "<table border=\"1\" class=\"dataframe\">\n",
       "  <thead>\n",
       "    <tr style=\"text-align: right;\">\n",
       "      <th></th>\n",
       "      <th>Open</th>\n",
       "      <th>High</th>\n",
       "      <th>Low</th>\n",
       "      <th>Close</th>\n",
       "      <th>Adj Close</th>\n",
       "      <th>Volume</th>\n",
       "      <th>Normed Return</th>\n",
       "    </tr>\n",
       "    <tr>\n",
       "      <th>Date</th>\n",
       "      <th></th>\n",
       "      <th></th>\n",
       "      <th></th>\n",
       "      <th></th>\n",
       "      <th></th>\n",
       "      <th></th>\n",
       "      <th></th>\n",
       "    </tr>\n",
       "  </thead>\n",
       "  <tbody>\n",
       "    <tr>\n",
       "      <th>2012-01-03</th>\n",
       "      <td>14.621429</td>\n",
       "      <td>14.732143</td>\n",
       "      <td>14.607143</td>\n",
       "      <td>14.686786</td>\n",
       "      <td>12.575916</td>\n",
       "      <td>302220800</td>\n",
       "      <td>1.000000</td>\n",
       "    </tr>\n",
       "    <tr>\n",
       "      <th>2012-01-04</th>\n",
       "      <td>14.642857</td>\n",
       "      <td>14.810000</td>\n",
       "      <td>14.617143</td>\n",
       "      <td>14.765714</td>\n",
       "      <td>12.643499</td>\n",
       "      <td>260022000</td>\n",
       "      <td>1.005374</td>\n",
       "    </tr>\n",
       "    <tr>\n",
       "      <th>2012-01-05</th>\n",
       "      <td>14.819643</td>\n",
       "      <td>14.948214</td>\n",
       "      <td>14.738214</td>\n",
       "      <td>14.929643</td>\n",
       "      <td>12.783867</td>\n",
       "      <td>271269600</td>\n",
       "      <td>1.016536</td>\n",
       "    </tr>\n",
       "    <tr>\n",
       "      <th>2012-01-06</th>\n",
       "      <td>14.991786</td>\n",
       "      <td>15.098214</td>\n",
       "      <td>14.972143</td>\n",
       "      <td>15.085714</td>\n",
       "      <td>12.917503</td>\n",
       "      <td>318292800</td>\n",
       "      <td>1.027162</td>\n",
       "    </tr>\n",
       "    <tr>\n",
       "      <th>2012-01-09</th>\n",
       "      <td>15.196429</td>\n",
       "      <td>15.276786</td>\n",
       "      <td>15.048214</td>\n",
       "      <td>15.061786</td>\n",
       "      <td>12.897020</td>\n",
       "      <td>394024400</td>\n",
       "      <td>1.025533</td>\n",
       "    </tr>\n",
       "    <tr>\n",
       "      <th>...</th>\n",
       "      <td>...</td>\n",
       "      <td>...</td>\n",
       "      <td>...</td>\n",
       "      <td>...</td>\n",
       "      <td>...</td>\n",
       "      <td>...</td>\n",
       "      <td>...</td>\n",
       "    </tr>\n",
       "    <tr>\n",
       "      <th>2016-12-23</th>\n",
       "      <td>28.897499</td>\n",
       "      <td>29.129999</td>\n",
       "      <td>28.897499</td>\n",
       "      <td>29.129999</td>\n",
       "      <td>27.384649</td>\n",
       "      <td>56998000</td>\n",
       "      <td>2.177547</td>\n",
       "    </tr>\n",
       "    <tr>\n",
       "      <th>2016-12-27</th>\n",
       "      <td>29.129999</td>\n",
       "      <td>29.450001</td>\n",
       "      <td>29.122499</td>\n",
       "      <td>29.315001</td>\n",
       "      <td>27.558563</td>\n",
       "      <td>73187600</td>\n",
       "      <td>2.191376</td>\n",
       "    </tr>\n",
       "    <tr>\n",
       "      <th>2016-12-28</th>\n",
       "      <td>29.379999</td>\n",
       "      <td>29.504999</td>\n",
       "      <td>29.049999</td>\n",
       "      <td>29.190001</td>\n",
       "      <td>27.441063</td>\n",
       "      <td>83623600</td>\n",
       "      <td>2.182033</td>\n",
       "    </tr>\n",
       "    <tr>\n",
       "      <th>2016-12-29</th>\n",
       "      <td>29.112499</td>\n",
       "      <td>29.277500</td>\n",
       "      <td>29.100000</td>\n",
       "      <td>29.182501</td>\n",
       "      <td>27.434004</td>\n",
       "      <td>60158000</td>\n",
       "      <td>2.181472</td>\n",
       "    </tr>\n",
       "    <tr>\n",
       "      <th>2016-12-30</th>\n",
       "      <td>29.162500</td>\n",
       "      <td>29.299999</td>\n",
       "      <td>28.857500</td>\n",
       "      <td>28.955000</td>\n",
       "      <td>27.220135</td>\n",
       "      <td>122345200</td>\n",
       "      <td>2.164465</td>\n",
       "    </tr>\n",
       "  </tbody>\n",
       "</table>\n",
       "<p>1258 rows × 7 columns</p>\n",
       "</div>"
      ],
      "text/plain": [
       "                 Open       High        Low      Close  Adj Close     Volume  \\\n",
       "Date                                                                           \n",
       "2012-01-03  14.621429  14.732143  14.607143  14.686786  12.575916  302220800   \n",
       "2012-01-04  14.642857  14.810000  14.617143  14.765714  12.643499  260022000   \n",
       "2012-01-05  14.819643  14.948214  14.738214  14.929643  12.783867  271269600   \n",
       "2012-01-06  14.991786  15.098214  14.972143  15.085714  12.917503  318292800   \n",
       "2012-01-09  15.196429  15.276786  15.048214  15.061786  12.897020  394024400   \n",
       "...               ...        ...        ...        ...        ...        ...   \n",
       "2016-12-23  28.897499  29.129999  28.897499  29.129999  27.384649   56998000   \n",
       "2016-12-27  29.129999  29.450001  29.122499  29.315001  27.558563   73187600   \n",
       "2016-12-28  29.379999  29.504999  29.049999  29.190001  27.441063   83623600   \n",
       "2016-12-29  29.112499  29.277500  29.100000  29.182501  27.434004   60158000   \n",
       "2016-12-30  29.162500  29.299999  28.857500  28.955000  27.220135  122345200   \n",
       "\n",
       "            Normed Return  \n",
       "Date                       \n",
       "2012-01-03       1.000000  \n",
       "2012-01-04       1.005374  \n",
       "2012-01-05       1.016536  \n",
       "2012-01-06       1.027162  \n",
       "2012-01-09       1.025533  \n",
       "...                   ...  \n",
       "2016-12-23       2.177547  \n",
       "2016-12-27       2.191376  \n",
       "2016-12-28       2.182033  \n",
       "2016-12-29       2.181472  \n",
       "2016-12-30       2.164465  \n",
       "\n",
       "[1258 rows x 7 columns]"
      ]
     },
     "execution_count": 59,
     "metadata": {},
     "output_type": "execute_result"
    }
   ],
   "source": [
    "aapl"
   ]
  },
  {
   "cell_type": "markdown",
   "metadata": {},
   "source": [
    "## Portfolio allocation"
   ]
  },
  {
   "cell_type": "code",
   "execution_count": 64,
   "metadata": {},
   "outputs": [],
   "source": [
    "for stock_df, allo in zip((aapl, cisco, ibm, amzn), [.3, .2, .4, .1]):\n",
    "    stock_df['Allocation'] = stock_df['Normed Return'] * allo"
   ]
  },
  {
   "cell_type": "code",
   "execution_count": 65,
   "metadata": {},
   "outputs": [
    {
     "data": {
      "text/html": [
       "<div>\n",
       "<style scoped>\n",
       "    .dataframe tbody tr th:only-of-type {\n",
       "        vertical-align: middle;\n",
       "    }\n",
       "\n",
       "    .dataframe tbody tr th {\n",
       "        vertical-align: top;\n",
       "    }\n",
       "\n",
       "    .dataframe thead th {\n",
       "        text-align: right;\n",
       "    }\n",
       "</style>\n",
       "<table border=\"1\" class=\"dataframe\">\n",
       "  <thead>\n",
       "    <tr style=\"text-align: right;\">\n",
       "      <th></th>\n",
       "      <th>Open</th>\n",
       "      <th>High</th>\n",
       "      <th>Low</th>\n",
       "      <th>Close</th>\n",
       "      <th>Adj Close</th>\n",
       "      <th>Volume</th>\n",
       "      <th>Normed Return</th>\n",
       "      <th>Allocation</th>\n",
       "    </tr>\n",
       "    <tr>\n",
       "      <th>Date</th>\n",
       "      <th></th>\n",
       "      <th></th>\n",
       "      <th></th>\n",
       "      <th></th>\n",
       "      <th></th>\n",
       "      <th></th>\n",
       "      <th></th>\n",
       "      <th></th>\n",
       "    </tr>\n",
       "  </thead>\n",
       "  <tbody>\n",
       "    <tr>\n",
       "      <th>2012-01-03</th>\n",
       "      <td>14.621429</td>\n",
       "      <td>14.732143</td>\n",
       "      <td>14.607143</td>\n",
       "      <td>14.686786</td>\n",
       "      <td>12.575916</td>\n",
       "      <td>302220800</td>\n",
       "      <td>1.000000</td>\n",
       "      <td>0.300000</td>\n",
       "    </tr>\n",
       "    <tr>\n",
       "      <th>2012-01-04</th>\n",
       "      <td>14.642857</td>\n",
       "      <td>14.810000</td>\n",
       "      <td>14.617143</td>\n",
       "      <td>14.765714</td>\n",
       "      <td>12.643499</td>\n",
       "      <td>260022000</td>\n",
       "      <td>1.005374</td>\n",
       "      <td>0.301612</td>\n",
       "    </tr>\n",
       "    <tr>\n",
       "      <th>2012-01-05</th>\n",
       "      <td>14.819643</td>\n",
       "      <td>14.948214</td>\n",
       "      <td>14.738214</td>\n",
       "      <td>14.929643</td>\n",
       "      <td>12.783867</td>\n",
       "      <td>271269600</td>\n",
       "      <td>1.016536</td>\n",
       "      <td>0.304961</td>\n",
       "    </tr>\n",
       "    <tr>\n",
       "      <th>2012-01-06</th>\n",
       "      <td>14.991786</td>\n",
       "      <td>15.098214</td>\n",
       "      <td>14.972143</td>\n",
       "      <td>15.085714</td>\n",
       "      <td>12.917503</td>\n",
       "      <td>318292800</td>\n",
       "      <td>1.027162</td>\n",
       "      <td>0.308149</td>\n",
       "    </tr>\n",
       "    <tr>\n",
       "      <th>2012-01-09</th>\n",
       "      <td>15.196429</td>\n",
       "      <td>15.276786</td>\n",
       "      <td>15.048214</td>\n",
       "      <td>15.061786</td>\n",
       "      <td>12.897020</td>\n",
       "      <td>394024400</td>\n",
       "      <td>1.025533</td>\n",
       "      <td>0.307660</td>\n",
       "    </tr>\n",
       "    <tr>\n",
       "      <th>...</th>\n",
       "      <td>...</td>\n",
       "      <td>...</td>\n",
       "      <td>...</td>\n",
       "      <td>...</td>\n",
       "      <td>...</td>\n",
       "      <td>...</td>\n",
       "      <td>...</td>\n",
       "      <td>...</td>\n",
       "    </tr>\n",
       "    <tr>\n",
       "      <th>2016-12-23</th>\n",
       "      <td>28.897499</td>\n",
       "      <td>29.129999</td>\n",
       "      <td>28.897499</td>\n",
       "      <td>29.129999</td>\n",
       "      <td>27.384649</td>\n",
       "      <td>56998000</td>\n",
       "      <td>2.177547</td>\n",
       "      <td>0.653264</td>\n",
       "    </tr>\n",
       "    <tr>\n",
       "      <th>2016-12-27</th>\n",
       "      <td>29.129999</td>\n",
       "      <td>29.450001</td>\n",
       "      <td>29.122499</td>\n",
       "      <td>29.315001</td>\n",
       "      <td>27.558563</td>\n",
       "      <td>73187600</td>\n",
       "      <td>2.191376</td>\n",
       "      <td>0.657413</td>\n",
       "    </tr>\n",
       "    <tr>\n",
       "      <th>2016-12-28</th>\n",
       "      <td>29.379999</td>\n",
       "      <td>29.504999</td>\n",
       "      <td>29.049999</td>\n",
       "      <td>29.190001</td>\n",
       "      <td>27.441063</td>\n",
       "      <td>83623600</td>\n",
       "      <td>2.182033</td>\n",
       "      <td>0.654610</td>\n",
       "    </tr>\n",
       "    <tr>\n",
       "      <th>2016-12-29</th>\n",
       "      <td>29.112499</td>\n",
       "      <td>29.277500</td>\n",
       "      <td>29.100000</td>\n",
       "      <td>29.182501</td>\n",
       "      <td>27.434004</td>\n",
       "      <td>60158000</td>\n",
       "      <td>2.181472</td>\n",
       "      <td>0.654441</td>\n",
       "    </tr>\n",
       "    <tr>\n",
       "      <th>2016-12-30</th>\n",
       "      <td>29.162500</td>\n",
       "      <td>29.299999</td>\n",
       "      <td>28.857500</td>\n",
       "      <td>28.955000</td>\n",
       "      <td>27.220135</td>\n",
       "      <td>122345200</td>\n",
       "      <td>2.164465</td>\n",
       "      <td>0.649340</td>\n",
       "    </tr>\n",
       "  </tbody>\n",
       "</table>\n",
       "<p>1258 rows × 8 columns</p>\n",
       "</div>"
      ],
      "text/plain": [
       "                 Open       High        Low      Close  Adj Close     Volume  \\\n",
       "Date                                                                           \n",
       "2012-01-03  14.621429  14.732143  14.607143  14.686786  12.575916  302220800   \n",
       "2012-01-04  14.642857  14.810000  14.617143  14.765714  12.643499  260022000   \n",
       "2012-01-05  14.819643  14.948214  14.738214  14.929643  12.783867  271269600   \n",
       "2012-01-06  14.991786  15.098214  14.972143  15.085714  12.917503  318292800   \n",
       "2012-01-09  15.196429  15.276786  15.048214  15.061786  12.897020  394024400   \n",
       "...               ...        ...        ...        ...        ...        ...   \n",
       "2016-12-23  28.897499  29.129999  28.897499  29.129999  27.384649   56998000   \n",
       "2016-12-27  29.129999  29.450001  29.122499  29.315001  27.558563   73187600   \n",
       "2016-12-28  29.379999  29.504999  29.049999  29.190001  27.441063   83623600   \n",
       "2016-12-29  29.112499  29.277500  29.100000  29.182501  27.434004   60158000   \n",
       "2016-12-30  29.162500  29.299999  28.857500  28.955000  27.220135  122345200   \n",
       "\n",
       "            Normed Return  Allocation  \n",
       "Date                                   \n",
       "2012-01-03       1.000000    0.300000  \n",
       "2012-01-04       1.005374    0.301612  \n",
       "2012-01-05       1.016536    0.304961  \n",
       "2012-01-06       1.027162    0.308149  \n",
       "2012-01-09       1.025533    0.307660  \n",
       "...                   ...         ...  \n",
       "2016-12-23       2.177547    0.653264  \n",
       "2016-12-27       2.191376    0.657413  \n",
       "2016-12-28       2.182033    0.654610  \n",
       "2016-12-29       2.181472    0.654441  \n",
       "2016-12-30       2.164465    0.649340  \n",
       "\n",
       "[1258 rows x 8 columns]"
      ]
     },
     "execution_count": 65,
     "metadata": {},
     "output_type": "execute_result"
    }
   ],
   "source": [
    "aapl"
   ]
  },
  {
   "cell_type": "markdown",
   "metadata": {},
   "source": [
    "## Investing money on the portfolio"
   ]
  },
  {
   "cell_type": "code",
   "execution_count": 66,
   "metadata": {},
   "outputs": [],
   "source": [
    "for stock_df, allo in zip((aapl, cisco, ibm, amzn), [.3, .2, .4, .1]):\n",
    "    stock_df['Position Values'] = stock_df['Allocation'] * 1000000 # invested money"
   ]
  },
  {
   "cell_type": "code",
   "execution_count": 67,
   "metadata": {},
   "outputs": [
    {
     "data": {
      "text/html": [
       "<div>\n",
       "<style scoped>\n",
       "    .dataframe tbody tr th:only-of-type {\n",
       "        vertical-align: middle;\n",
       "    }\n",
       "\n",
       "    .dataframe tbody tr th {\n",
       "        vertical-align: top;\n",
       "    }\n",
       "\n",
       "    .dataframe thead th {\n",
       "        text-align: right;\n",
       "    }\n",
       "</style>\n",
       "<table border=\"1\" class=\"dataframe\">\n",
       "  <thead>\n",
       "    <tr style=\"text-align: right;\">\n",
       "      <th></th>\n",
       "      <th>Open</th>\n",
       "      <th>High</th>\n",
       "      <th>Low</th>\n",
       "      <th>Close</th>\n",
       "      <th>Adj Close</th>\n",
       "      <th>Volume</th>\n",
       "      <th>Normed Return</th>\n",
       "      <th>Allocation</th>\n",
       "      <th>Position Values</th>\n",
       "    </tr>\n",
       "    <tr>\n",
       "      <th>Date</th>\n",
       "      <th></th>\n",
       "      <th></th>\n",
       "      <th></th>\n",
       "      <th></th>\n",
       "      <th></th>\n",
       "      <th></th>\n",
       "      <th></th>\n",
       "      <th></th>\n",
       "      <th></th>\n",
       "    </tr>\n",
       "  </thead>\n",
       "  <tbody>\n",
       "    <tr>\n",
       "      <th>2012-01-03</th>\n",
       "      <td>14.621429</td>\n",
       "      <td>14.732143</td>\n",
       "      <td>14.607143</td>\n",
       "      <td>14.686786</td>\n",
       "      <td>12.575916</td>\n",
       "      <td>302220800</td>\n",
       "      <td>1.000000</td>\n",
       "      <td>0.300000</td>\n",
       "      <td>300000.000000</td>\n",
       "    </tr>\n",
       "    <tr>\n",
       "      <th>2012-01-04</th>\n",
       "      <td>14.642857</td>\n",
       "      <td>14.810000</td>\n",
       "      <td>14.617143</td>\n",
       "      <td>14.765714</td>\n",
       "      <td>12.643499</td>\n",
       "      <td>260022000</td>\n",
       "      <td>1.005374</td>\n",
       "      <td>0.301612</td>\n",
       "      <td>301612.202623</td>\n",
       "    </tr>\n",
       "    <tr>\n",
       "      <th>2012-01-05</th>\n",
       "      <td>14.819643</td>\n",
       "      <td>14.948214</td>\n",
       "      <td>14.738214</td>\n",
       "      <td>14.929643</td>\n",
       "      <td>12.783867</td>\n",
       "      <td>271269600</td>\n",
       "      <td>1.016536</td>\n",
       "      <td>0.304961</td>\n",
       "      <td>304960.686456</td>\n",
       "    </tr>\n",
       "    <tr>\n",
       "      <th>2012-01-06</th>\n",
       "      <td>14.991786</td>\n",
       "      <td>15.098214</td>\n",
       "      <td>14.972143</td>\n",
       "      <td>15.085714</td>\n",
       "      <td>12.917503</td>\n",
       "      <td>318292800</td>\n",
       "      <td>1.027162</td>\n",
       "      <td>0.308149</td>\n",
       "      <td>308148.600677</td>\n",
       "    </tr>\n",
       "    <tr>\n",
       "      <th>2012-01-09</th>\n",
       "      <td>15.196429</td>\n",
       "      <td>15.276786</td>\n",
       "      <td>15.048214</td>\n",
       "      <td>15.061786</td>\n",
       "      <td>12.897020</td>\n",
       "      <td>394024400</td>\n",
       "      <td>1.025533</td>\n",
       "      <td>0.307660</td>\n",
       "      <td>307659.975836</td>\n",
       "    </tr>\n",
       "    <tr>\n",
       "      <th>...</th>\n",
       "      <td>...</td>\n",
       "      <td>...</td>\n",
       "      <td>...</td>\n",
       "      <td>...</td>\n",
       "      <td>...</td>\n",
       "      <td>...</td>\n",
       "      <td>...</td>\n",
       "      <td>...</td>\n",
       "      <td>...</td>\n",
       "    </tr>\n",
       "    <tr>\n",
       "      <th>2016-12-23</th>\n",
       "      <td>28.897499</td>\n",
       "      <td>29.129999</td>\n",
       "      <td>28.897499</td>\n",
       "      <td>29.129999</td>\n",
       "      <td>27.384649</td>\n",
       "      <td>56998000</td>\n",
       "      <td>2.177547</td>\n",
       "      <td>0.653264</td>\n",
       "      <td>653264.111607</td>\n",
       "    </tr>\n",
       "    <tr>\n",
       "      <th>2016-12-27</th>\n",
       "      <td>29.129999</td>\n",
       "      <td>29.450001</td>\n",
       "      <td>29.122499</td>\n",
       "      <td>29.315001</td>\n",
       "      <td>27.558563</td>\n",
       "      <td>73187600</td>\n",
       "      <td>2.191376</td>\n",
       "      <td>0.657413</td>\n",
       "      <td>657412.849998</td>\n",
       "    </tr>\n",
       "    <tr>\n",
       "      <th>2016-12-28</th>\n",
       "      <td>29.379999</td>\n",
       "      <td>29.504999</td>\n",
       "      <td>29.049999</td>\n",
       "      <td>29.190001</td>\n",
       "      <td>27.441063</td>\n",
       "      <td>83623600</td>\n",
       "      <td>2.182033</td>\n",
       "      <td>0.654610</td>\n",
       "      <td>654609.866045</td>\n",
       "    </tr>\n",
       "    <tr>\n",
       "      <th>2016-12-29</th>\n",
       "      <td>29.112499</td>\n",
       "      <td>29.277500</td>\n",
       "      <td>29.100000</td>\n",
       "      <td>29.182501</td>\n",
       "      <td>27.434004</td>\n",
       "      <td>60158000</td>\n",
       "      <td>2.181472</td>\n",
       "      <td>0.654441</td>\n",
       "      <td>654441.470428</td>\n",
       "    </tr>\n",
       "    <tr>\n",
       "      <th>2016-12-30</th>\n",
       "      <td>29.162500</td>\n",
       "      <td>29.299999</td>\n",
       "      <td>28.857500</td>\n",
       "      <td>28.955000</td>\n",
       "      <td>27.220135</td>\n",
       "      <td>122345200</td>\n",
       "      <td>2.164465</td>\n",
       "      <td>0.649340</td>\n",
       "      <td>649339.597373</td>\n",
       "    </tr>\n",
       "  </tbody>\n",
       "</table>\n",
       "<p>1258 rows × 9 columns</p>\n",
       "</div>"
      ],
      "text/plain": [
       "                 Open       High        Low      Close  Adj Close     Volume  \\\n",
       "Date                                                                           \n",
       "2012-01-03  14.621429  14.732143  14.607143  14.686786  12.575916  302220800   \n",
       "2012-01-04  14.642857  14.810000  14.617143  14.765714  12.643499  260022000   \n",
       "2012-01-05  14.819643  14.948214  14.738214  14.929643  12.783867  271269600   \n",
       "2012-01-06  14.991786  15.098214  14.972143  15.085714  12.917503  318292800   \n",
       "2012-01-09  15.196429  15.276786  15.048214  15.061786  12.897020  394024400   \n",
       "...               ...        ...        ...        ...        ...        ...   \n",
       "2016-12-23  28.897499  29.129999  28.897499  29.129999  27.384649   56998000   \n",
       "2016-12-27  29.129999  29.450001  29.122499  29.315001  27.558563   73187600   \n",
       "2016-12-28  29.379999  29.504999  29.049999  29.190001  27.441063   83623600   \n",
       "2016-12-29  29.112499  29.277500  29.100000  29.182501  27.434004   60158000   \n",
       "2016-12-30  29.162500  29.299999  28.857500  28.955000  27.220135  122345200   \n",
       "\n",
       "            Normed Return  Allocation  Position Values  \n",
       "Date                                                    \n",
       "2012-01-03       1.000000    0.300000    300000.000000  \n",
       "2012-01-04       1.005374    0.301612    301612.202623  \n",
       "2012-01-05       1.016536    0.304961    304960.686456  \n",
       "2012-01-06       1.027162    0.308149    308148.600677  \n",
       "2012-01-09       1.025533    0.307660    307659.975836  \n",
       "...                   ...         ...              ...  \n",
       "2016-12-23       2.177547    0.653264    653264.111607  \n",
       "2016-12-27       2.191376    0.657413    657412.849998  \n",
       "2016-12-28       2.182033    0.654610    654609.866045  \n",
       "2016-12-29       2.181472    0.654441    654441.470428  \n",
       "2016-12-30       2.164465    0.649340    649339.597373  \n",
       "\n",
       "[1258 rows x 9 columns]"
      ]
     },
     "execution_count": 67,
     "metadata": {},
     "output_type": "execute_result"
    }
   ],
   "source": [
    "aapl"
   ]
  },
  {
   "cell_type": "markdown",
   "metadata": {},
   "source": [
    "## Total ammount of money"
   ]
  },
  {
   "cell_type": "code",
   "execution_count": 72,
   "metadata": {},
   "outputs": [],
   "source": [
    "all_pos_vals = [aapl['Position Values'], cisco['Position Values'],\n",
    "               ibm['Position Values'], amzn['Position Values']]\n",
    "\n",
    "portfolio_val = pd.concat(all_pos_vals, axis=1)\n",
    "portfolio_val.columns = ['APPL Pos', 'CISCO Pos', 'IBM POS', 'AMZN Pos']"
   ]
  },
  {
   "cell_type": "code",
   "execution_count": 73,
   "metadata": {},
   "outputs": [
    {
     "data": {
      "text/html": [
       "<div>\n",
       "<style scoped>\n",
       "    .dataframe tbody tr th:only-of-type {\n",
       "        vertical-align: middle;\n",
       "    }\n",
       "\n",
       "    .dataframe tbody tr th {\n",
       "        vertical-align: top;\n",
       "    }\n",
       "\n",
       "    .dataframe thead th {\n",
       "        text-align: right;\n",
       "    }\n",
       "</style>\n",
       "<table border=\"1\" class=\"dataframe\">\n",
       "  <thead>\n",
       "    <tr style=\"text-align: right;\">\n",
       "      <th></th>\n",
       "      <th>APPL Pos</th>\n",
       "      <th>CISCO Pos</th>\n",
       "      <th>IBM POS</th>\n",
       "      <th>AMZN Pos</th>\n",
       "    </tr>\n",
       "    <tr>\n",
       "      <th>Date</th>\n",
       "      <th></th>\n",
       "      <th></th>\n",
       "      <th></th>\n",
       "      <th></th>\n",
       "    </tr>\n",
       "  </thead>\n",
       "  <tbody>\n",
       "    <tr>\n",
       "      <th>2012-01-03</th>\n",
       "      <td>300000.000000</td>\n",
       "      <td>200000.000000</td>\n",
       "      <td>400000.000000</td>\n",
       "      <td>100000.000000</td>\n",
       "    </tr>\n",
       "    <tr>\n",
       "      <th>2012-01-04</th>\n",
       "      <td>301612.202623</td>\n",
       "      <td>203864.857343</td>\n",
       "      <td>398368.271837</td>\n",
       "      <td>99150.977890</td>\n",
       "    </tr>\n",
       "    <tr>\n",
       "      <th>2012-01-05</th>\n",
       "      <td>304960.686456</td>\n",
       "      <td>203113.356534</td>\n",
       "      <td>396478.863187</td>\n",
       "      <td>99206.837860</td>\n",
       "    </tr>\n",
       "    <tr>\n",
       "      <th>2012-01-06</th>\n",
       "      <td>308148.600677</td>\n",
       "      <td>202361.841868</td>\n",
       "      <td>391926.929957</td>\n",
       "      <td>101999.665897</td>\n",
       "    </tr>\n",
       "    <tr>\n",
       "      <th>2012-01-09</th>\n",
       "      <td>307659.975836</td>\n",
       "      <td>203650.136887</td>\n",
       "      <td>389887.133216</td>\n",
       "      <td>99737.473483</td>\n",
       "    </tr>\n",
       "    <tr>\n",
       "      <th>...</th>\n",
       "      <td>...</td>\n",
       "      <td>...</td>\n",
       "      <td>...</td>\n",
       "      <td>...</td>\n",
       "    </tr>\n",
       "    <tr>\n",
       "      <th>2016-12-23</th>\n",
       "      <td>653264.111607</td>\n",
       "      <td>377461.571863</td>\n",
       "      <td>407400.270763</td>\n",
       "      <td>424839.430286</td>\n",
       "    </tr>\n",
       "    <tr>\n",
       "      <th>2016-12-27</th>\n",
       "      <td>657412.849998</td>\n",
       "      <td>379316.052644</td>\n",
       "      <td>408451.125546</td>\n",
       "      <td>430877.523138</td>\n",
       "    </tr>\n",
       "    <tr>\n",
       "      <th>2016-12-28</th>\n",
       "      <td>654609.866045</td>\n",
       "      <td>376101.523213</td>\n",
       "      <td>406129.469053</td>\n",
       "      <td>431285.265122</td>\n",
       "    </tr>\n",
       "    <tr>\n",
       "      <th>2016-12-29</th>\n",
       "      <td>654441.470428</td>\n",
       "      <td>376596.010772</td>\n",
       "      <td>407131.568106</td>\n",
       "      <td>427386.488092</td>\n",
       "    </tr>\n",
       "    <tr>\n",
       "      <th>2016-12-30</th>\n",
       "      <td>649339.597373</td>\n",
       "      <td>373628.780551</td>\n",
       "      <td>405640.844293</td>\n",
       "      <td>418851.589248</td>\n",
       "    </tr>\n",
       "  </tbody>\n",
       "</table>\n",
       "<p>1258 rows × 4 columns</p>\n",
       "</div>"
      ],
      "text/plain": [
       "                 APPL Pos      CISCO Pos        IBM POS       AMZN Pos\n",
       "Date                                                                  \n",
       "2012-01-03  300000.000000  200000.000000  400000.000000  100000.000000\n",
       "2012-01-04  301612.202623  203864.857343  398368.271837   99150.977890\n",
       "2012-01-05  304960.686456  203113.356534  396478.863187   99206.837860\n",
       "2012-01-06  308148.600677  202361.841868  391926.929957  101999.665897\n",
       "2012-01-09  307659.975836  203650.136887  389887.133216   99737.473483\n",
       "...                   ...            ...            ...            ...\n",
       "2016-12-23  653264.111607  377461.571863  407400.270763  424839.430286\n",
       "2016-12-27  657412.849998  379316.052644  408451.125546  430877.523138\n",
       "2016-12-28  654609.866045  376101.523213  406129.469053  431285.265122\n",
       "2016-12-29  654441.470428  376596.010772  407131.568106  427386.488092\n",
       "2016-12-30  649339.597373  373628.780551  405640.844293  418851.589248\n",
       "\n",
       "[1258 rows x 4 columns]"
      ]
     },
     "execution_count": 73,
     "metadata": {},
     "output_type": "execute_result"
    }
   ],
   "source": [
    "portfolio_val"
   ]
  },
  {
   "cell_type": "code",
   "execution_count": 74,
   "metadata": {},
   "outputs": [],
   "source": [
    "portfolio_val['Total Pos'] = portfolio_val.sum(axis=1)"
   ]
  },
  {
   "cell_type": "code",
   "execution_count": 76,
   "metadata": {},
   "outputs": [
    {
     "data": {
      "text/plain": [
       "<AxesSubplot:xlabel='Date'>"
      ]
     },
     "execution_count": 76,
     "metadata": {},
     "output_type": "execute_result"
    },
    {
     "data": {
      "image/png": "[encoded data removed]",
      "text/plain": [
       "<Figure size 432x288 with 1 Axes>"
      ]
     },
     "metadata": {
      "needs_background": "light"
     },
     "output_type": "display_data"
    }
   ],
   "source": [
    "portfolio_val['Total Pos'].plot()"
   ]
  },
  {
   "cell_type": "code",
   "execution_count": 79,
   "metadata": {},
   "outputs": [
    {
     "data": {
      "text/plain": [
       "<AxesSubplot:xlabel='Date'>"
      ]
     },
     "execution_count": 79,
     "metadata": {},
     "output_type": "execute_result"
    },
    {
     "data": {
      "image/png": "[encoded data removed]",
      "text/plain": [
       "<Figure size 720x576 with 1 Axes>"
      ]
     },
     "metadata": {
      "needs_background": "light"
     },
     "output_type": "display_data"
    }
   ],
   "source": [
    "portfolio_val.plot(figsize=(10,8))"
   ]
  },
  {
   "cell_type": "markdown",
   "metadata": {},
   "source": [
    "## Portfolio Statistics"
   ]
  },
  {
   "cell_type": "code",
   "execution_count": 81,
   "metadata": {},
   "outputs": [
    {
     "data": {
      "text/html": [
       "<div>\n",
       "<style scoped>\n",
       "    .dataframe tbody tr th:only-of-type {\n",
       "        vertical-align: middle;\n",
       "    }\n",
       "\n",
       "    .dataframe tbody tr th {\n",
       "        vertical-align: top;\n",
       "    }\n",
       "\n",
       "    .dataframe thead th {\n",
       "        text-align: right;\n",
       "    }\n",
       "</style>\n",
       "<table border=\"1\" class=\"dataframe\">\n",
       "  <thead>\n",
       "    <tr style=\"text-align: right;\">\n",
       "      <th></th>\n",
       "      <th>APPL Pos</th>\n",
       "      <th>CISCO Pos</th>\n",
       "      <th>IBM POS</th>\n",
       "      <th>AMZN Pos</th>\n",
       "      <th>Total Pos</th>\n",
       "    </tr>\n",
       "    <tr>\n",
       "      <th>Date</th>\n",
       "      <th></th>\n",
       "      <th></th>\n",
       "      <th></th>\n",
       "      <th></th>\n",
       "      <th></th>\n",
       "    </tr>\n",
       "  </thead>\n",
       "  <tbody>\n",
       "    <tr>\n",
       "      <th>2012-01-03</th>\n",
       "      <td>300000.000000</td>\n",
       "      <td>200000.000000</td>\n",
       "      <td>400000.000000</td>\n",
       "      <td>100000.000000</td>\n",
       "      <td>1.000000e+06</td>\n",
       "    </tr>\n",
       "    <tr>\n",
       "      <th>2012-01-04</th>\n",
       "      <td>301612.202623</td>\n",
       "      <td>203864.857343</td>\n",
       "      <td>398368.271837</td>\n",
       "      <td>99150.977890</td>\n",
       "      <td>1.002996e+06</td>\n",
       "    </tr>\n",
       "    <tr>\n",
       "      <th>2012-01-05</th>\n",
       "      <td>304960.686456</td>\n",
       "      <td>203113.356534</td>\n",
       "      <td>396478.863187</td>\n",
       "      <td>99206.837860</td>\n",
       "      <td>1.003760e+06</td>\n",
       "    </tr>\n",
       "    <tr>\n",
       "      <th>2012-01-06</th>\n",
       "      <td>308148.600677</td>\n",
       "      <td>202361.841868</td>\n",
       "      <td>391926.929957</td>\n",
       "      <td>101999.665897</td>\n",
       "      <td>1.004437e+06</td>\n",
       "    </tr>\n",
       "    <tr>\n",
       "      <th>2012-01-09</th>\n",
       "      <td>307659.975836</td>\n",
       "      <td>203650.136887</td>\n",
       "      <td>389887.133216</td>\n",
       "      <td>99737.473483</td>\n",
       "      <td>1.000935e+06</td>\n",
       "    </tr>\n",
       "  </tbody>\n",
       "</table>\n",
       "</div>"
      ],
      "text/plain": [
       "                 APPL Pos      CISCO Pos        IBM POS       AMZN Pos  \\\n",
       "Date                                                                     \n",
       "2012-01-03  300000.000000  200000.000000  400000.000000  100000.000000   \n",
       "2012-01-04  301612.202623  203864.857343  398368.271837   99150.977890   \n",
       "2012-01-05  304960.686456  203113.356534  396478.863187   99206.837860   \n",
       "2012-01-06  308148.600677  202361.841868  391926.929957  101999.665897   \n",
       "2012-01-09  307659.975836  203650.136887  389887.133216   99737.473483   \n",
       "\n",
       "               Total Pos  \n",
       "Date                      \n",
       "2012-01-03  1.000000e+06  \n",
       "2012-01-04  1.002996e+06  \n",
       "2012-01-05  1.003760e+06  \n",
       "2012-01-06  1.004437e+06  \n",
       "2012-01-09  1.000935e+06  "
      ]
     },
     "execution_count": 81,
     "metadata": {},
     "output_type": "execute_result"
    }
   ],
   "source": [
    "portfolio_val.head()"
   ]
  },
  {
   "cell_type": "code",
   "execution_count": 83,
   "metadata": {},
   "outputs": [],
   "source": [
    "portfolio_val['Daily Return'] = portfolio_val['Total Pos'].pct_change(1)"
   ]
  },
  {
   "cell_type": "code",
   "execution_count": 85,
   "metadata": {},
   "outputs": [
    {
     "data": {
      "text/plain": [
       "0.0005442755004551339"
      ]
     },
     "execution_count": 85,
     "metadata": {},
     "output_type": "execute_result"
    }
   ],
   "source": [
    "portfolio_val['Daily Return'].mean()"
   ]
  },
  {
   "cell_type": "code",
   "execution_count": 86,
   "metadata": {},
   "outputs": [
    {
     "data": {
      "text/plain": [
       "0.010571005448902888"
      ]
     },
     "execution_count": 86,
     "metadata": {},
     "output_type": "execute_result"
    }
   ],
   "source": [
    "portfolio_val['Daily Return'].std()"
   ]
  },
  {
   "cell_type": "code",
   "execution_count": 95,
   "metadata": {},
   "outputs": [
    {
     "data": {
      "text/plain": [
       "<AxesSubplot:ylabel='Frequency'>"
      ]
     },
     "execution_count": 95,
     "metadata": {},
     "output_type": "execute_result"
    },
    {
     "data": {
      "image/png": "[encoded data removed]",
      "text/plain": [
       "<Figure size 288x360 with 1 Axes>"
      ]
     },
     "metadata": {
      "needs_background": "light"
     },
     "output_type": "display_data"
    }
   ],
   "source": [
    "portfolio_val['Daily Return'].plot(kind='hist', bins=100, figsize=(4,5))"
   ]
  },
  {
   "cell_type": "markdown",
   "metadata": {},
   "source": [
    "## Cumulative Return"
   ]
  },
  {
   "cell_type": "code",
   "execution_count": 91,
   "metadata": {},
   "outputs": [],
   "source": [
    "cumulative_return = 100 * (portfolio_val['Total Pos'][-1] / portfolio_val['Total Pos'][0] -1)"
   ]
  },
  {
   "cell_type": "code",
   "execution_count": 92,
   "metadata": {},
   "outputs": [
    {
     "data": {
      "text/plain": [
       "84.74608114649087"
      ]
     },
     "execution_count": 92,
     "metadata": {},
     "output_type": "execute_result"
    }
   ],
   "source": [
    "cumulative_return"
   ]
  },
  {
   "cell_type": "code",
   "execution_count": 93,
   "metadata": {},
   "outputs": [
    {
     "data": {
      "text/plain": [
       "1847460.8114649088"
      ]
     },
     "execution_count": 93,
     "metadata": {},
     "output_type": "execute_result"
    }
   ],
   "source": [
    "portfolio_val['Total Pos'][-1]"
   ]
  },
  {
   "cell_type": "markdown",
   "metadata": {},
   "source": [
    "## Sharpe Ratio"
   ]
  },
  {
   "cell_type": "code",
   "execution_count": 99,
   "metadata": {},
   "outputs": [],
   "source": [
    "risk_free_rate = 0\n",
    "SR = (portfolio_val['Daily Return'].mean() - risk_free_rate)/ portfolio_val['Daily Return'].std()"
   ]
  },
  {
   "cell_type": "code",
   "execution_count": 100,
   "metadata": {},
   "outputs": [
    {
     "data": {
      "text/plain": [
       "0.051487581109100795"
      ]
     },
     "execution_count": 100,
     "metadata": {},
     "output_type": "execute_result"
    }
   ],
   "source": [
    "SR # daily"
   ]
  },
  {
   "cell_type": "code",
   "execution_count": 101,
   "metadata": {},
   "outputs": [],
   "source": [
    "ASR = (252**0.5) * SR"
   ]
  },
  {
   "cell_type": "code",
   "execution_count": 102,
   "metadata": {},
   "outputs": [
    {
     "data": {
      "text/plain": [
       "0.8173400113376873"
      ]
     },
     "execution_count": 102,
     "metadata": {},
     "output_type": "execute_result"
    }
   ],
   "source": [
    "ASR # annualized Sharpe Ratio"
   ]
  },
  {
   "cell_type": "code",
   "execution_count": 103,
   "metadata": {},
   "outputs": [],
   "source": [
    "# SR > 1 -> good\n",
    "# SR > 2 -> very good\n",
    "# SR > 3 -> excelent"
   ]
  },
  {
   "cell_type": "code",
   "execution_count": null,
   "metadata": {},
   "outputs": [],
   "source": []
  }
 ],
 "metadata": {
  "kernelspec": {
   "display_name": "Python 3 (ipykernel)",
   "language": "python",
   "name": "python3"
  },
  "language_info": {
   "codemirror_mode": {
    "name": "ipython",
    "version": 3
   },
   "file_extension": ".py",
   "mimetype": "text/x-python",
   "name": "python",
   "nbconvert_exporter": "python",
   "pygments_lexer": "ipython3",
   "version": "3.9.9"
  }
 },
 "nbformat": 4,
 "nbformat_minor": 4
}
