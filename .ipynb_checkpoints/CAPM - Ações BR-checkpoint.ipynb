{
 "cells": [
  {
   "cell_type": "code",
   "execution_count": 1,
   "metadata": {},
   "outputs": [],
   "source": [
    "import numpy as np\n",
    "import pandas as pd\n",
    "import yfinance as yf\n",
    "import matplotlib.pyplot as plt"
   ]
  },
  {
   "cell_type": "code",
   "execution_count": 2,
   "metadata": {},
   "outputs": [],
   "source": [
    "# taxa de juros de mercado\n",
    "RISK_FREE_RATE = 0.05\n",
    "# consideraremos os retornos mensais - e queremos calcular o retorno anual\n",
    "MONTHS_IN_YEAR = 12"
   ]
  },
  {
   "cell_type": "markdown",
   "metadata": {},
   "source": [
    "## Download dos dados"
   ]
  },
  {
   "cell_type": "code",
   "execution_count": 27,
   "metadata": {},
   "outputs": [
    {
     "name": "stdout",
     "output_type": "stream",
     "text": [
      "[*********************100%***********************]  1 of 1 completed\n",
      "[*********************100%***********************]  1 of 1 completed\n"
     ]
    }
   ],
   "source": [
    "start_date = '2016-01-01'\n",
    "end_date = '2022-01-01'\n",
    "data = {}\n",
    "stocks = ['VALE3.SA', '^BVSP'] # PETR4.SA, MGLU3.SA\n",
    "\n",
    "for stock in stocks:\n",
    "    ticker = yf.download(stock, start_date, end_date)\n",
    "    # utilizar o Adj Close é melhor nesse caso, pois leva em consideração o preço após ajustes para todas as divisões e distribuições de dividendos aplicáveis.\n",
    "    data[stock] = ticker['Adj Close']\n",
    "stock_data = pd.DataFrame(data)"
   ]
  },
  {
   "cell_type": "code",
   "execution_count": 28,
   "metadata": {},
   "outputs": [
    {
     "data": {
      "text/html": [
       "<div>\n",
       "<style scoped>\n",
       "    .dataframe tbody tr th:only-of-type {\n",
       "        vertical-align: middle;\n",
       "    }\n",
       "\n",
       "    .dataframe tbody tr th {\n",
       "        vertical-align: top;\n",
       "    }\n",
       "\n",
       "    .dataframe thead th {\n",
       "        text-align: right;\n",
       "    }\n",
       "</style>\n",
       "<table border=\"1\" class=\"dataframe\">\n",
       "  <thead>\n",
       "    <tr style=\"text-align: right;\">\n",
       "      <th></th>\n",
       "      <th>VALE3.SA</th>\n",
       "      <th>^BVSP</th>\n",
       "    </tr>\n",
       "    <tr>\n",
       "      <th>Date</th>\n",
       "      <th></th>\n",
       "      <th></th>\n",
       "    </tr>\n",
       "  </thead>\n",
       "  <tbody>\n",
       "    <tr>\n",
       "      <th>2016-01-04</th>\n",
       "      <td>9.228043</td>\n",
       "      <td>42141.0</td>\n",
       "    </tr>\n",
       "    <tr>\n",
       "      <th>2016-01-05</th>\n",
       "      <td>9.104422</td>\n",
       "      <td>42419.0</td>\n",
       "    </tr>\n",
       "    <tr>\n",
       "      <th>2016-01-06</th>\n",
       "      <td>8.435408</td>\n",
       "      <td>41773.0</td>\n",
       "    </tr>\n",
       "    <tr>\n",
       "      <th>2016-01-07</th>\n",
       "      <td>7.933647</td>\n",
       "      <td>40695.0</td>\n",
       "    </tr>\n",
       "    <tr>\n",
       "      <th>2016-01-08</th>\n",
       "      <td>7.664586</td>\n",
       "      <td>40612.0</td>\n",
       "    </tr>\n",
       "    <tr>\n",
       "      <th>...</th>\n",
       "      <td>...</td>\n",
       "      <td>...</td>\n",
       "    </tr>\n",
       "    <tr>\n",
       "      <th>2021-12-23</th>\n",
       "      <td>79.150002</td>\n",
       "      <td>104891.0</td>\n",
       "    </tr>\n",
       "    <tr>\n",
       "      <th>2021-12-27</th>\n",
       "      <td>78.949997</td>\n",
       "      <td>105531.0</td>\n",
       "    </tr>\n",
       "    <tr>\n",
       "      <th>2021-12-28</th>\n",
       "      <td>77.050003</td>\n",
       "      <td>104864.0</td>\n",
       "    </tr>\n",
       "    <tr>\n",
       "      <th>2021-12-29</th>\n",
       "      <td>77.250000</td>\n",
       "      <td>104107.0</td>\n",
       "    </tr>\n",
       "    <tr>\n",
       "      <th>2021-12-30</th>\n",
       "      <td>77.959999</td>\n",
       "      <td>104822.0</td>\n",
       "    </tr>\n",
       "  </tbody>\n",
       "</table>\n",
       "<p>1492 rows × 2 columns</p>\n",
       "</div>"
      ],
      "text/plain": [
       "             VALE3.SA     ^BVSP\n",
       "Date                           \n",
       "2016-01-04   9.228043   42141.0\n",
       "2016-01-05   9.104422   42419.0\n",
       "2016-01-06   8.435408   41773.0\n",
       "2016-01-07   7.933647   40695.0\n",
       "2016-01-08   7.664586   40612.0\n",
       "...               ...       ...\n",
       "2021-12-23  79.150002  104891.0\n",
       "2021-12-27  78.949997  105531.0\n",
       "2021-12-28  77.050003  104864.0\n",
       "2021-12-29  77.250000  104107.0\n",
       "2021-12-30  77.959999  104822.0\n",
       "\n",
       "[1492 rows x 2 columns]"
      ]
     },
     "execution_count": 28,
     "metadata": {},
     "output_type": "execute_result"
    }
   ],
   "source": [
    "stock_data"
   ]
  },
  {
   "cell_type": "markdown",
   "metadata": {},
   "source": [
    "## Processamento dos dados"
   ]
  },
  {
   "cell_type": "code",
   "execution_count": 29,
   "metadata": {},
   "outputs": [
    {
     "data": {
      "text/html": [
       "<div>\n",
       "<style scoped>\n",
       "    .dataframe tbody tr th:only-of-type {\n",
       "        vertical-align: middle;\n",
       "    }\n",
       "\n",
       "    .dataframe tbody tr th {\n",
       "        vertical-align: top;\n",
       "    }\n",
       "\n",
       "    .dataframe thead th {\n",
       "        text-align: right;\n",
       "    }\n",
       "</style>\n",
       "<table border=\"1\" class=\"dataframe\">\n",
       "  <thead>\n",
       "    <tr style=\"text-align: right;\">\n",
       "      <th></th>\n",
       "      <th>s_adjclose</th>\n",
       "      <th>m_adjclose</th>\n",
       "      <th>s_returns</th>\n",
       "      <th>m_returns</th>\n",
       "    </tr>\n",
       "    <tr>\n",
       "      <th>Date</th>\n",
       "      <th></th>\n",
       "      <th></th>\n",
       "      <th></th>\n",
       "      <th></th>\n",
       "    </tr>\n",
       "  </thead>\n",
       "  <tbody>\n",
       "    <tr>\n",
       "      <th>2016-02-29</th>\n",
       "      <td>8.588116</td>\n",
       "      <td>42794.0</td>\n",
       "      <td>0.194761</td>\n",
       "      <td>0.057420</td>\n",
       "    </tr>\n",
       "    <tr>\n",
       "      <th>2016-03-31</th>\n",
       "      <td>11.016931</td>\n",
       "      <td>50055.0</td>\n",
       "      <td>0.249054</td>\n",
       "      <td>0.156724</td>\n",
       "    </tr>\n",
       "    <tr>\n",
       "      <th>2016-04-30</th>\n",
       "      <td>14.318377</td>\n",
       "      <td>53911.0</td>\n",
       "      <td>0.262111</td>\n",
       "      <td>0.074212</td>\n",
       "    </tr>\n",
       "    <tr>\n",
       "      <th>2016-05-31</th>\n",
       "      <td>10.340646</td>\n",
       "      <td>48472.0</td>\n",
       "      <td>-0.325461</td>\n",
       "      <td>-0.106348</td>\n",
       "    </tr>\n",
       "    <tr>\n",
       "      <th>2016-06-30</th>\n",
       "      <td>11.831385</td>\n",
       "      <td>51527.0</td>\n",
       "      <td>0.134673</td>\n",
       "      <td>0.061120</td>\n",
       "    </tr>\n",
       "    <tr>\n",
       "      <th>...</th>\n",
       "      <td>...</td>\n",
       "      <td>...</td>\n",
       "      <td>...</td>\n",
       "      <td>...</td>\n",
       "    </tr>\n",
       "    <tr>\n",
       "      <th>2021-08-31</th>\n",
       "      <td>89.393997</td>\n",
       "      <td>118781.0</td>\n",
       "      <td>-0.097261</td>\n",
       "      <td>-0.025107</td>\n",
       "    </tr>\n",
       "    <tr>\n",
       "      <th>2021-09-30</th>\n",
       "      <td>76.239998</td>\n",
       "      <td>110979.0</td>\n",
       "      <td>-0.159167</td>\n",
       "      <td>-0.067940</td>\n",
       "    </tr>\n",
       "    <tr>\n",
       "      <th>2021-10-31</th>\n",
       "      <td>71.610001</td>\n",
       "      <td>103501.0</td>\n",
       "      <td>-0.062651</td>\n",
       "      <td>-0.069760</td>\n",
       "    </tr>\n",
       "    <tr>\n",
       "      <th>2021-11-30</th>\n",
       "      <td>69.949997</td>\n",
       "      <td>101915.0</td>\n",
       "      <td>-0.023454</td>\n",
       "      <td>-0.015442</td>\n",
       "    </tr>\n",
       "    <tr>\n",
       "      <th>2021-12-31</th>\n",
       "      <td>77.959999</td>\n",
       "      <td>104822.0</td>\n",
       "      <td>0.108415</td>\n",
       "      <td>0.028125</td>\n",
       "    </tr>\n",
       "  </tbody>\n",
       "</table>\n",
       "<p>71 rows × 4 columns</p>\n",
       "</div>"
      ],
      "text/plain": [
       "            s_adjclose  m_adjclose  s_returns  m_returns\n",
       "Date                                                    \n",
       "2016-02-29    8.588116     42794.0   0.194761   0.057420\n",
       "2016-03-31   11.016931     50055.0   0.249054   0.156724\n",
       "2016-04-30   14.318377     53911.0   0.262111   0.074212\n",
       "2016-05-31   10.340646     48472.0  -0.325461  -0.106348\n",
       "2016-06-30   11.831385     51527.0   0.134673   0.061120\n",
       "...                ...         ...        ...        ...\n",
       "2021-08-31   89.393997    118781.0  -0.097261  -0.025107\n",
       "2021-09-30   76.239998    110979.0  -0.159167  -0.067940\n",
       "2021-10-31   71.610001    103501.0  -0.062651  -0.069760\n",
       "2021-11-30   69.949997    101915.0  -0.023454  -0.015442\n",
       "2021-12-31   77.959999    104822.0   0.108415   0.028125\n",
       "\n",
       "[71 rows x 4 columns]"
      ]
     },
     "execution_count": 29,
     "metadata": {},
     "output_type": "execute_result"
    }
   ],
   "source": [
    "# usamos retornos mensais em vez de retornos diários\n",
    "# retornos diários são superiores para previsões de curto prazo\n",
    "# para modelos de longo prazo, os retornos mensais são favoráveis. os retornos de dados mensais são pelo menos aproximadamente distribuídos normalmente\n",
    "# stock e market returns (IBM e SAP 500)\n",
    "\n",
    "stock_data = stock_data.resample('M').last()\n",
    "        \n",
    "        \n",
    "data = pd.DataFrame({'s_adjclose': stock_data[stocks[0]],\n",
    "                         'm_adjclose': stock_data[stocks[1]]})\n",
    "\n",
    "# logarithmic monthly returns\n",
    "data[['s_returns', 'm_returns']] = np.log(data[['s_adjclose', 'm_adjclose']] / data[['s_adjclose', 'm_adjclose']].shift(1))\n",
    "\n",
    "# remove the NaN values\n",
    "data = data[1:]\n",
    "data"
   ]
  },
  {
   "cell_type": "markdown",
   "metadata": {},
   "source": [
    "## Cálculo do beta através da covariância"
   ]
  },
  {
   "cell_type": "code",
   "execution_count": 30,
   "metadata": {},
   "outputs": [
    {
     "name": "stdout",
     "output_type": "stream",
     "text": [
      "Beta from the formula 0.7240010414228184\n"
     ]
    }
   ],
   "source": [
    "# matriz de covariância: os itens diagonais são as variâncias\n",
    "# fora da diagonal são as covariâncias\n",
    "# a matrix é simétrica: cov[0 1] = cov[1,0]\n",
    "\n",
    "covariance_matrix = np.cov(data['s_returns'], data['m_returns'])\n",
    "# beta = cov(ra,rm)/var(rm)\n",
    "beta = covariance_matrix[0,1] / covariance_matrix[1,1]\n",
    "print('Beta from the formula', beta)"
   ]
  },
  {
   "cell_type": "markdown",
   "metadata": {},
   "source": [
    "## Cálculo do beta através da regressão"
   ]
  },
  {
   "cell_type": "code",
   "execution_count": 31,
   "metadata": {},
   "outputs": [
    {
     "name": "stdout",
     "output_type": "stream",
     "text": [
      "Beta from the regression 0.7240010414228182\n",
      "Expected return:  0.13045002308099768\n"
     ]
    }
   ],
   "source": [
    "# usando regressão linear para ajustar uma linha aos dados\n",
    "# [stock_returns, market_returns] - inclinação é o beta\n",
    "beta, alpha = np.polyfit(data['m_returns'], data['s_returns'], deg=1) # deg 1 é uma linha\n",
    "print('Beta from the regression', beta)\n",
    "\n",
    "# calcula o retorno esperado de acordo com a fórmula CAPM\n",
    "# estamos atrás do retorno anual (por isso multiplique por 12)\n",
    "expected_return = RISK_FREE_RATE + beta * (data['m_returns'].mean() * MONTHS_IN_YEAR - RISK_FREE_RATE)\n",
    "print('Expected return: ', expected_return)"
   ]
  },
  {
   "cell_type": "code",
   "execution_count": 32,
   "metadata": {},
   "outputs": [
    {
     "data": {
      "image/png": "[encoded data removed]",
      "text/plain": [
       "<Figure size 1440x720 with 1 Axes>"
      ]
     },
     "metadata": {
      "needs_background": "light"
     },
     "output_type": "display_data"
    }
   ],
   "source": [
    "fig, axis = plt.subplots(1, figsize=(20, 10))\n",
    "axis.scatter(data[\"m_returns\"], data['s_returns'],\n",
    "             label=\"Data Points\")\n",
    "axis.plot(data[\"m_returns\"], beta * data[\"m_returns\"] + alpha,\n",
    "          color='red', label=\"CAPM Line\")\n",
    "plt.title('Capital Asset Pricing Model, finding alpha and beta')\n",
    "plt.xlabel('Market return $R_m$', fontsize=18)\n",
    "plt.ylabel('Stock return $R_a$')\n",
    "plt.text(0.08, 0.05, r'$R_a = \\beta * R_m + \\alpha$', fontsize=18)\n",
    "plt.legend()\n",
    "plt.grid(True)\n",
    "plt.show()"
   ]
  },
  {
   "cell_type": "code",
   "execution_count": 33,
   "metadata": {},
   "outputs": [],
   "source": [
    "# quão arriscada sua carteira em relação ao mercado\n",
    "# beta < 1: o risco do mercado de ações é menor do que o de uma ação média\n",
    "# menos arriscado que o mercado - retorna menos dinheiro\n",
    "# beta deve ser > 1\n",
    "# como não é arriscado, o retorno será menor\n",
    "\n",
    "# se investir dinheiro na IBM, o retorno anual é de 9%\n",
    "# beta < 1 - não é um investimento arriscado, mas podemos obter 9% de lucro"
   ]
  },
  {
   "cell_type": "code",
   "execution_count": null,
   "metadata": {},
   "outputs": [],
   "source": []
  }
 ],
 "metadata": {
  "kernelspec": {
   "display_name": "Python 3",
   "language": "python",
   "name": "python3"
  },
  "language_info": {
   "codemirror_mode": {
    "name": "ipython",
    "version": 3
   },
   "file_extension": ".py",
   "mimetype": "text/x-python",
   "name": "python",
   "nbconvert_exporter": "python",
   "pygments_lexer": "ipython3",
   "version": "3.8.10"
  }
 },
 "nbformat": 4,
 "nbformat_minor": 4
}
