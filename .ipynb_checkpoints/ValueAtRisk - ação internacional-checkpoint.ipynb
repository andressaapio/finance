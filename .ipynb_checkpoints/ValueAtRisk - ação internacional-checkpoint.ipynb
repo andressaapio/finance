{
 "cells": [
  {
   "cell_type": "code",
   "execution_count": 1,
   "id": "5e1a5147",
   "metadata": {},
   "outputs": [],
   "source": [
    "import numpy as np\n",
    "import yfinance as yf\n",
    "from scipy.stats import norm\n",
    "import pandas as pd\n",
    "import datetime"
   ]
  },
  {
   "cell_type": "code",
   "execution_count": 33,
   "id": "b177847e",
   "metadata": {},
   "outputs": [],
   "source": [
    "def download_data(stock, start_date, end_date):\n",
    "    data = {}\n",
    "    ticker = yf.download(stock, start_date, end_date)\n",
    "    data[stock] = ticker['Adj Close']\n",
    "    return pd.DataFrame(data)\n",
    "\n",
    "\n",
    "# this is how we calculate the VaR for any days in the future\n",
    "def calculate_var_n(position, c, mu, sigma, n): # c confidance level\n",
    "    var = position * (mu * n - sigma * np.sqrt(n) * norm.ppf(1 - c)) # ppf is the inverse cumulative\n",
    "    return var"
   ]
  },
  {
   "cell_type": "code",
   "execution_count": 28,
   "id": "78e0ac43",
   "metadata": {},
   "outputs": [
    {
     "name": "stdout",
     "output_type": "stream",
     "text": [
      "[*********************100%***********************]  1 of 1 completed\n"
     ]
    },
    {
     "data": {
      "text/html": [
       "<div>\n",
       "<style scoped>\n",
       "    .dataframe tbody tr th:only-of-type {\n",
       "        vertical-align: middle;\n",
       "    }\n",
       "\n",
       "    .dataframe tbody tr th {\n",
       "        vertical-align: top;\n",
       "    }\n",
       "\n",
       "    .dataframe thead th {\n",
       "        text-align: right;\n",
       "    }\n",
       "</style>\n",
       "<table border=\"1\" class=\"dataframe\">\n",
       "  <thead>\n",
       "    <tr style=\"text-align: right;\">\n",
       "      <th></th>\n",
       "      <th>C</th>\n",
       "      <th>returns</th>\n",
       "    </tr>\n",
       "    <tr>\n",
       "      <th>Date</th>\n",
       "      <th></th>\n",
       "      <th></th>\n",
       "    </tr>\n",
       "  </thead>\n",
       "  <tbody>\n",
       "    <tr>\n",
       "      <th>2014-01-03</th>\n",
       "      <td>46.101662</td>\n",
       "      <td>0.021388</td>\n",
       "    </tr>\n",
       "    <tr>\n",
       "      <th>2014-01-06</th>\n",
       "      <td>46.455627</td>\n",
       "      <td>0.007649</td>\n",
       "    </tr>\n",
       "    <tr>\n",
       "      <th>2014-01-07</th>\n",
       "      <td>46.775059</td>\n",
       "      <td>0.006853</td>\n",
       "    </tr>\n",
       "    <tr>\n",
       "      <th>2014-01-08</th>\n",
       "      <td>47.318954</td>\n",
       "      <td>0.011561</td>\n",
       "    </tr>\n",
       "    <tr>\n",
       "      <th>2014-01-09</th>\n",
       "      <td>47.655659</td>\n",
       "      <td>0.007090</td>\n",
       "    </tr>\n",
       "    <tr>\n",
       "      <th>...</th>\n",
       "      <td>...</td>\n",
       "      <td>...</td>\n",
       "    </tr>\n",
       "    <tr>\n",
       "      <th>2017-12-22</th>\n",
       "      <td>66.981354</td>\n",
       "      <td>-0.004362</td>\n",
       "    </tr>\n",
       "    <tr>\n",
       "      <th>2017-12-26</th>\n",
       "      <td>66.351372</td>\n",
       "      <td>-0.009450</td>\n",
       "    </tr>\n",
       "    <tr>\n",
       "      <th>2017-12-27</th>\n",
       "      <td>66.448967</td>\n",
       "      <td>0.001470</td>\n",
       "    </tr>\n",
       "    <tr>\n",
       "      <th>2017-12-28</th>\n",
       "      <td>66.617569</td>\n",
       "      <td>0.002534</td>\n",
       "    </tr>\n",
       "    <tr>\n",
       "      <th>2017-12-29</th>\n",
       "      <td>66.023094</td>\n",
       "      <td>-0.008964</td>\n",
       "    </tr>\n",
       "  </tbody>\n",
       "</table>\n",
       "<p>1006 rows × 2 columns</p>\n",
       "</div>"
      ],
      "text/plain": [
       "                    C   returns\n",
       "Date                           \n",
       "2014-01-03  46.101662  0.021388\n",
       "2014-01-06  46.455627  0.007649\n",
       "2014-01-07  46.775059  0.006853\n",
       "2014-01-08  47.318954  0.011561\n",
       "2014-01-09  47.655659  0.007090\n",
       "...               ...       ...\n",
       "2017-12-22  66.981354 -0.004362\n",
       "2017-12-26  66.351372 -0.009450\n",
       "2017-12-27  66.448967  0.001470\n",
       "2017-12-28  66.617569  0.002534\n",
       "2017-12-29  66.023094 -0.008964\n",
       "\n",
       "[1006 rows x 2 columns]"
      ]
     },
     "execution_count": 28,
     "metadata": {},
     "output_type": "execute_result"
    }
   ],
   "source": [
    "start = datetime.datetime(2014, 1, 1)\n",
    "end = datetime.datetime(2018, 1, 1)\n",
    "\n",
    "stock_data = download_data('C', start, end)\n",
    "\n",
    "stock_data['returns'] = np.log(stock_data['C'] / stock_data['C'].shift(1))\n",
    "\n",
    "stock_data = stock_data[1:]\n",
    "\n",
    "stock_data"
   ]
  },
  {
   "cell_type": "code",
   "execution_count": 42,
   "id": "00c71c6a",
   "metadata": {},
   "outputs": [
    {
     "name": "stdout",
     "output_type": "stream",
     "text": [
      "Value at risk is $25396.71\n"
     ]
    }
   ],
   "source": [
    "# this is the investment (stocks or whatever)\n",
    "S = 1e6 # 1 million\n",
    "# confidence level - this time it is 95%\n",
    "c = 0.95\n",
    "\n",
    "# we assume that daily returns are normally distributed\n",
    "mu = np.mean(stock_data['returns'])\n",
    "sigma = np.std(stock_data['returns'])\n",
    "\n",
    "print('Value at risk is $%0.2f' % calculate_var_n(S, c, mu, sigma, 1))"
   ]
  },
  {
   "cell_type": "code",
   "execution_count": 43,
   "id": "5ca187e8",
   "metadata": {},
   "outputs": [],
   "source": [
    "# for 1 day\n",
    "# with 95 % of conficence, we are not going to lose more than 25.000 dollars if we invest a million into C stocks\n",
    "# considering the value at risk tomorrow"
   ]
  },
  {
   "cell_type": "code",
   "execution_count": null,
   "id": "161945c0",
   "metadata": {},
   "outputs": [],
   "source": []
  },
  {
   "cell_type": "code",
   "execution_count": null,
   "id": "2d357e7a",
   "metadata": {},
   "outputs": [],
   "source": []
  }
 ],
 "metadata": {
  "kernelspec": {
   "display_name": "Python 3 (ipykernel)",
   "language": "python",
   "name": "python3"
  },
  "language_info": {
   "codemirror_mode": {
    "name": "ipython",
    "version": 3
   },
   "file_extension": ".py",
   "mimetype": "text/x-python",
   "name": "python",
   "nbconvert_exporter": "python",
   "pygments_lexer": "ipython3",
   "version": "3.9.9"
  }
 },
 "nbformat": 4,
 "nbformat_minor": 5
}
