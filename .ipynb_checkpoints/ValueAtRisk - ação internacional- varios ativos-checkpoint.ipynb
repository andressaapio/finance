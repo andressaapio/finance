{
 "cells": [
  {
   "cell_type": "code",
   "execution_count": 2,
   "id": "5e1a5147",
   "metadata": {},
   "outputs": [],
   "source": [
    "import numpy as np\n",
    "import yfinance as yf\n",
    "from scipy.stats import norm\n",
    "import pandas as pd\n",
    "import datetime"
   ]
  },
  {
   "cell_type": "code",
   "execution_count": 6,
   "id": "f4001512",
   "metadata": {},
   "outputs": [],
   "source": [
    "start_date = datetime.datetime(2014, 1, 1)\n",
    "end_date = datetime.datetime(2018, 1, 1)\n",
    "stock = 'TSLA'"
   ]
  },
  {
   "cell_type": "markdown",
   "id": "d824832e",
   "metadata": {},
   "source": [
    "## Download dos dados"
   ]
  },
  {
   "cell_type": "code",
   "execution_count": 8,
   "id": "b59bc52d",
   "metadata": {},
   "outputs": [
    {
     "name": "stdout",
     "output_type": "stream",
     "text": [
      "[*********************100%***********************]  1 of 1 completed\n"
     ]
    }
   ],
   "source": [
    "data = {}\n",
    "ticker = yf.download(stock, start_date, end_date)\n",
    "data[stock] = ticker['Adj Close']\n",
    "stock_data = pd.DataFrame(data)"
   ]
  },
  {
   "cell_type": "markdown",
   "id": "7c9a4ab6",
   "metadata": {},
   "source": [
    "## Cálculo dos retornos"
   ]
  },
  {
   "cell_type": "code",
   "execution_count": 11,
   "id": "43854c92",
   "metadata": {},
   "outputs": [
    {
     "data": {
      "text/html": [
       "<div>\n",
       "<style scoped>\n",
       "    .dataframe tbody tr th:only-of-type {\n",
       "        vertical-align: middle;\n",
       "    }\n",
       "\n",
       "    .dataframe tbody tr th {\n",
       "        vertical-align: top;\n",
       "    }\n",
       "\n",
       "    .dataframe thead th {\n",
       "        text-align: right;\n",
       "    }\n",
       "</style>\n",
       "<table border=\"1\" class=\"dataframe\">\n",
       "  <thead>\n",
       "    <tr style=\"text-align: right;\">\n",
       "      <th></th>\n",
       "      <th>TSLA</th>\n",
       "      <th>returns</th>\n",
       "    </tr>\n",
       "    <tr>\n",
       "      <th>Date</th>\n",
       "      <th></th>\n",
       "      <th></th>\n",
       "    </tr>\n",
       "  </thead>\n",
       "  <tbody>\n",
       "    <tr>\n",
       "      <th>2014-01-03</th>\n",
       "      <td>29.912001</td>\n",
       "      <td>-0.003604</td>\n",
       "    </tr>\n",
       "    <tr>\n",
       "      <th>2014-01-06</th>\n",
       "      <td>29.400000</td>\n",
       "      <td>-0.017265</td>\n",
       "    </tr>\n",
       "    <tr>\n",
       "      <th>2014-01-07</th>\n",
       "      <td>29.872000</td>\n",
       "      <td>0.015927</td>\n",
       "    </tr>\n",
       "    <tr>\n",
       "      <th>2014-01-08</th>\n",
       "      <td>30.256001</td>\n",
       "      <td>0.012773</td>\n",
       "    </tr>\n",
       "    <tr>\n",
       "      <th>2014-01-09</th>\n",
       "      <td>29.506001</td>\n",
       "      <td>-0.025101</td>\n",
       "    </tr>\n",
       "    <tr>\n",
       "      <th>...</th>\n",
       "      <td>...</td>\n",
       "      <td>...</td>\n",
       "    </tr>\n",
       "    <tr>\n",
       "      <th>2017-12-22</th>\n",
       "      <td>65.040001</td>\n",
       "      <td>-0.019670</td>\n",
       "    </tr>\n",
       "    <tr>\n",
       "      <th>2017-12-26</th>\n",
       "      <td>63.458000</td>\n",
       "      <td>-0.024624</td>\n",
       "    </tr>\n",
       "    <tr>\n",
       "      <th>2017-12-27</th>\n",
       "      <td>62.327999</td>\n",
       "      <td>-0.017968</td>\n",
       "    </tr>\n",
       "    <tr>\n",
       "      <th>2017-12-28</th>\n",
       "      <td>63.071999</td>\n",
       "      <td>0.011866</td>\n",
       "    </tr>\n",
       "    <tr>\n",
       "      <th>2017-12-29</th>\n",
       "      <td>62.270000</td>\n",
       "      <td>-0.012797</td>\n",
       "    </tr>\n",
       "  </tbody>\n",
       "</table>\n",
       "<p>1006 rows × 2 columns</p>\n",
       "</div>"
      ],
      "text/plain": [
       "                 TSLA   returns\n",
       "Date                           \n",
       "2014-01-03  29.912001 -0.003604\n",
       "2014-01-06  29.400000 -0.017265\n",
       "2014-01-07  29.872000  0.015927\n",
       "2014-01-08  30.256001  0.012773\n",
       "2014-01-09  29.506001 -0.025101\n",
       "...               ...       ...\n",
       "2017-12-22  65.040001 -0.019670\n",
       "2017-12-26  63.458000 -0.024624\n",
       "2017-12-27  62.327999 -0.017968\n",
       "2017-12-28  63.071999  0.011866\n",
       "2017-12-29  62.270000 -0.012797\n",
       "\n",
       "[1006 rows x 2 columns]"
      ]
     },
     "execution_count": 11,
     "metadata": {},
     "output_type": "execute_result"
    }
   ],
   "source": [
    "stock_data['returns'] = np.log(stock_data[stock] / stock_data[stock].shift(1))\n",
    "\n",
    "stock_data = stock_data[1:]\n",
    "\n",
    "stock_data"
   ]
  },
  {
   "cell_type": "markdown",
   "id": "f2891e31",
   "metadata": {},
   "source": [
    "## Cálculo do Valor em Risco"
   ]
  },
  {
   "cell_type": "code",
   "execution_count": 19,
   "id": "edec4a50",
   "metadata": {},
   "outputs": [
    {
     "name": "stdout",
     "output_type": "stream",
     "text": [
      "O valor em risco é $426.71\n"
     ]
    }
   ],
   "source": [
    "# assumindo que os retornos são normalmente distribuídos\n",
    "mu = np.mean(stock_data['returns'])\n",
    "sigma = np.std(stock_data['returns'])\n",
    "\n",
    "# em relação ao investimento\n",
    "S = 1e4 # 10 mil\n",
    "# intervalo de confiança\n",
    "c = 0.95\n",
    "# tempo\n",
    "n = 1 # amanhã\n",
    "\n",
    "var = S * (mu * n - sigma * np.sqrt(n) * norm.ppf(1 - c))\n",
    "print('O valor em risco é $%0.2f' % var)"
   ]
  },
  {
   "cell_type": "code",
   "execution_count": 16,
   "id": "8926ea70",
   "metadata": {},
   "outputs": [],
   "source": [
    "# para um dia não perderemos mais do que 426.71$ se investirmos 10 mil. considerando o risco amanhã"
   ]
  },
  {
   "cell_type": "code",
   "execution_count": null,
   "id": "161945c0",
   "metadata": {},
   "outputs": [],
   "source": []
  },
  {
   "cell_type": "code",
   "execution_count": null,
   "id": "2d357e7a",
   "metadata": {},
   "outputs": [],
   "source": []
  }
 ],
 "metadata": {
  "kernelspec": {
   "display_name": "Python 3 (ipykernel)",
   "language": "python",
   "name": "python3"
  },
  "language_info": {
   "codemirror_mode": {
    "name": "ipython",
    "version": 3
   },
   "file_extension": ".py",
   "mimetype": "text/x-python",
   "name": "python",
   "nbconvert_exporter": "python",
   "pygments_lexer": "ipython3",
   "version": "3.9.9"
  }
 },
 "nbformat": 4,
 "nbformat_minor": 5
}
